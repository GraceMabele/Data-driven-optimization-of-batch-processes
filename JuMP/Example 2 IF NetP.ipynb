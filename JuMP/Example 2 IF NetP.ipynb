{
 "cells": [
  {
   "cell_type": "code",
   "execution_count": 1,
   "metadata": {},
   "outputs": [],
   "source": [
    "using GAMS"
   ]
  },
  {
   "cell_type": "code",
   "execution_count": 2,
   "metadata": {},
   "outputs": [],
   "source": [
    "using JuMP"
   ]
  },
  {
   "cell_type": "code",
   "execution_count": 3,
   "metadata": {},
   "outputs": [],
   "source": [
    "using GLPK"
   ]
  },
  {
   "cell_type": "code",
   "execution_count": 4,
   "metadata": {},
   "outputs": [],
   "source": [
    "using DataStructures"
   ]
  },
  {
   "cell_type": "code",
   "execution_count": 5,
   "metadata": {},
   "outputs": [],
   "source": [
    "using Surrogates"
   ]
  },
  {
   "cell_type": "code",
   "execution_count": 6,
   "metadata": {},
   "outputs": [],
   "source": [
    "using Flux"
   ]
  },
  {
   "cell_type": "code",
   "execution_count": 7,
   "metadata": {},
   "outputs": [],
   "source": [
    "using DataFrames"
   ]
  },
  {
   "cell_type": "code",
   "execution_count": 8,
   "metadata": {},
   "outputs": [],
   "source": [
    "using TaylorSeries"
   ]
  },
  {
   "cell_type": "markdown",
   "metadata": {},
   "source": [
    "# Novel mathematical formulation for the short-term scheduling of batch plants: Example 2\n",
    "\n",
    "This GAMS Model presents an application of the novel mathematical formulation for the short-term scheduling of batch plants. The proposed formulation by Ierapetritou and Floudas  is used on a literature example by Sundaramoorthy and Karimi that involves 3 tasks and 5 units (2 mixers, 1 reactor and 2 purificators). The main process involves a series of  processing tasks i.e. a mixing, reaction and purification.\n",
    "\n",
    "Formulation Source: Ierapetritou and Floudas (1998) Effective Continuous-Time Formulation for Short-Term Scheduling. 1. Multipurpose Batch Processes. Independent Engineering Chemical Research 37 (4341-4359)\n",
    "\n",
    "Example Source: Sundaramoorthy A, Karimi IA. (2005) A simpler better slot-based continuous-time formulation for short-term scheduling in multipurpose batch plants. Chemical Engineering Science 60 (2679–2702)\n"
   ]
  },
  {
   "cell_type": "code",
   "execution_count": 9,
   "metadata": {},
   "outputs": [],
   "source": [
    "H = 8;\n",
    "P = 5;"
   ]
  },
  {
   "cell_type": "markdown",
   "metadata": {},
   "source": [
    "# SETS\n",
    "Define the sets to be utilised in the MILP\n",
    "Please task note that if a task can be performed in more than one unit then it is considered a different task for each unit it can be performed in."
   ]
  },
  {
   "cell_type": "code",
   "execution_count": 10,
   "metadata": {},
   "outputs": [],
   "source": [
    "#Sets\n",
    "\n",
    "I = [\"t1\",\"t2\",\"t3\",\"t4\",\"t5\"];\n",
    "J = [\"j1\",\"j2\",\"j3\",\"j4\",\"j5\"];\n",
    "N = range(1,P, step = 1);\n",
    "S = [\"s1\",\"s2\",\"s3\",\"s4\"];\n",
    "\n",
    "Jt1 = [J[1]];\n",
    "Jt2 = [J[2]];\n",
    "Jt3 = [J[3]];\n",
    "Jt4 = [J[4]];\n",
    "Jt5 = [J[5]];\n",
    "\n",
    "Ij1 = [I[1]];\n",
    "Ij2 = [I[2]];\n",
    "Ij3 = [I[3]];\n",
    "Ij4 = [I[4]];\n",
    "Ij5 = [I[5]];\n",
    "\n",
    "Is1 = I[1:2]\n",
    "Is2 = I[1:3]\n",
    "Is3 = I[3:5]\n",
    "Is4 = I[4:5]\n",
    "\n",
    "Ip = I;\n",
    "Jp = J;\n",
    "Np = N;\n"
   ]
  },
  {
   "cell_type": "code",
   "execution_count": 11,
   "metadata": {},
   "outputs": [
    {
     "name": "stdout",
     "output_type": "stream",
     "text": [
      "1:1:8\n"
     ]
    }
   ],
   "source": [
    "println(N)"
   ]
  },
  {
   "cell_type": "markdown",
   "metadata": {},
   "source": [
    "# PARAMETERS\n",
    "The available information for the process is given below i.e. storage capacity, initial available inventory,\n",
    "batch size and parameters alpha and beta which are the processing time parameters viz. constant and variable terms\n"
   ]
  },
  {
   "cell_type": "code",
   "execution_count": 12,
   "metadata": {},
   "outputs": [],
   "source": [
    "#PARAMETERS\n",
    "#bmin = [0,0,0,0,0]\n",
    "\n",
    "vmin = OrderedDict(\n",
    "   \"t1\" => 0,\n",
    "   \"t2\" => 0,\n",
    "   \"t3\" => 0,\n",
    "   \"t4\" => 0,\n",
    "   \"t5\" => 0   \n",
    ")\n",
    "\n",
    "#bmax = [100,150,200,150,150]\n",
    "vmax = OrderedDict(\n",
    "   \"t1\" => 100,\n",
    "   \"t2\" => 150,\n",
    "   \"t3\" => 200,\n",
    "   \"t4\" => 150,\n",
    "   \"t5\" => 150 \n",
    ")\n",
    "\n",
    "#STin = [10000, 0, 0, 0]\n",
    "STin = OrderedDict(\n",
    "     \"s1\" => 10000,\n",
    "     \"s2\" => 0,\n",
    "     \"s3\" => 0,\n",
    "     \"s4\" => 0)\n",
    "\n",
    "#STmax = [+inf, 200, 250, +inf ]\n",
    "STmax = OrderedDict(\n",
    "     \"s1\" => 100000,\n",
    "     \"s2\" => 200,\n",
    "     \"s3\" => 250,\n",
    "     \"s4\" => 0\n",
    ")\n",
    "\n",
    "#alpha = [1.333, 1.333, 1.000, 0.667, 0.667]\n",
    "alpha = OrderedDict(\n",
    "\"t1\" => 1.333,\n",
    "\"t2\" => 1.333,\n",
    "\"t3\" => 1.000,\n",
    "\"t4\" => 0.667,\n",
    "\"t5\" => 0.667\n",
    ")\n",
    "\n",
    "#beta = [0.01333, 0.01333, 0.00500, 0.00445, 0.00445]\n",
    "beta = OrderedDict(\n",
    "\"t1\" => 0.01333,\n",
    "\"t2\" => 0.01333,\n",
    "\"t3\" => 0.00500,\n",
    "\"t4\" => 0.00445,\n",
    "\"t5\" => 0.00445       \n",
    ")\n",
    "\n",
    "price = OrderedDict(\n",
    "\"s1\" => 0,\n",
    "\"s2\" => 0,\n",
    "\"s3\" => 0,\n",
    "\"s4\" => 5\n",
    ")\n",
    "\n",
    "demand = OrderedDict(\n",
    "\"s1\" => 0,\n",
    "\"s2\" => 0,\n",
    "\"s3\" => 0,\n",
    "\"s4\" => 0\n",
    ")\n",
    "\n",
    "#rho_table = wsv\"\"\"\n",
    "#i        s1       s2     s3    s4\n",
    "#t1       -1       +1      0     0\n",
    "#t2       -1       +1      0     0\n",
    "#t3        0       -1     +1     0\n",
    "#t4        0        0     -1    +1\n",
    "#t5        0        0     -1    +1\n",
    "#\"\"\"\n",
    "\n",
    "rho_table = DataFrame([(I = \"t1\", s1 = -1, s2 = +1, s3 = 0, s4 = 0 ),\n",
    "                   (I = \"t2\", s1 = -1, s2 = +1, s3 = 0, s4 = 0 ),\n",
    "                   (I = \"t3\", s1 = 0, s2 = -1, s3 = +1, s4 = 0 ),\n",
    "                   (I = \"t4\", s1 = 0, s2 = 0, s3 = -1, s4 = +1 ),\n",
    "                   (I = \"t5\", s1 = 0, s2 = 0, s3 = -1, s4 = +1 )]);\n",
    "\n",
    "rho = OrderedDict( (r[:I],states) => r[Symbol(states)] for r in eachrow(rho_table), states in S);"
   ]
  },
  {
   "cell_type": "markdown",
   "metadata": {},
   "source": [
    "# MODEL DEFINITION"
   ]
  },
  {
   "cell_type": "code",
   "execution_count": 13,
   "metadata": {},
   "outputs": [
    {
     "data": {
      "text/latex": [
       "$$ \\begin{alignat*}{1}\\text{feasibility}\\\\\n",
       "\\text{Subject to} \\quad\\end{alignat*}\n",
       " $$"
      ],
      "text/plain": [
       "A JuMP Model\n",
       "Feasibility problem with:\n",
       "Variables: 0\n",
       "Model mode: AUTOMATIC\n",
       "CachingOptimizer state: EMPTY_OPTIMIZER\n",
       "Solver name: GAMS"
      ]
     },
     "execution_count": 13,
     "metadata": {},
     "output_type": "execute_result"
    }
   ],
   "source": [
    "example2_netprofit = Model(GAMS.Optimizer)"
   ]
  },
  {
   "cell_type": "markdown",
   "metadata": {},
   "source": [
    "# VARIABLES"
   ]
  },
  {
   "cell_type": "code",
   "execution_count": 14,
   "metadata": {},
   "outputs": [],
   "source": [
    "@variables example2_netprofit begin\n",
    "    w[i in I, n in N], Bin\n",
    "    y[j in J, n in N], Bin\n",
    "    bm[i in I, j in J, n in N] >= 0\n",
    "    d[s in S, n in N] >= 0\n",
    "    ST[s in S, n in N] >= 0\n",
    "    Ts[i in I, j in J, n in N] >= 0\n",
    "    Tf[i in I, j in J, n in N] >= 0\n",
    "\n",
    "\n",
    "\n",
    "end"
   ]
  },
  {
   "cell_type": "markdown",
   "metadata": {},
   "source": [
    "# ALLOCATION CONSTRAINTS\n",
    "The allocation constraints express that at each unit j and at an event point n only one of the tasks that can be performed\n",
    "in this unit (i.e. i ∈ Ij ) should take place"
   ]
  },
  {
   "cell_type": "code",
   "execution_count": 15,
   "metadata": {},
   "outputs": [],
   "source": [
    "@constraints example2_netprofit begin\n",
    "    allocation1[j in J, n in N; j == J[1]],\n",
    "      sum(w[i,n] for i in Ij1) == y[j,n]\n",
    "    allocation2[j in J, n in N; j == J[2]],\n",
    "      sum(w[i,n] for i in Ij2) == y[j,n]  \n",
    "    allocation3[j in J, n in N; j == J[3]],\n",
    "      sum(w[i,n] for i in Ij3) == y[j,n]\n",
    "    allocation4[j in J, n in N; j == J[4]],\n",
    "      sum(w[i,n] for i in Ij4) == y[j,n]  \n",
    "    allocation5[j in J, n in N; j == J[5]],\n",
    "      sum(w[i,n] for i in Ij5) == y[j,n]\n",
    "end"
   ]
  },
  {
   "cell_type": "code",
   "execution_count": 32,
   "metadata": {},
   "outputs": [
    {
     "name": "stdout",
     "output_type": "stream",
     "text": [
      "  [j1, 3]  =  allocation1[j1,3] : w[t1,3] - y[j1,3] == 0.0\n",
      "  [j1, 6]  =  allocation1[j1,6] : w[t1,6] - y[j1,6] == 0.0\n",
      "  [j1, 4]  =  allocation1[j1,4] : w[t1,4] - y[j1,4] == 0.0\n",
      "  [j1, 1]  =  allocation1[j1,1] : w[t1,1] - y[j1,1] == 0.0\n",
      "  [j1, 5]  =  allocation1[j1,5] : w[t1,5] - y[j1,5] == 0.0\n",
      "  [j1, 8]  =  allocation1[j1,8] : w[t1,8] - y[j1,8] == 0.0\n",
      "  [j1, 2]  =  allocation1[j1,2] : w[t1,2] - y[j1,2] == 0.0\n",
      "  [j1, 7]  =  allocation1[j1,7] : w[t1,7] - y[j1,7] == 0.0\n"
     ]
    }
   ],
   "source": [
    "println(allocation1)"
   ]
  },
  {
   "cell_type": "markdown",
   "metadata": {},
   "source": [
    "# CAPACITY CONSTRAINTS\n",
    "\n",
    "The capacity constraints specify the minimum or maximum amount of available material for a task to take place in a unit\n",
    "Since vmin is zero for all of them, the minimum capacity constraint is not defined"
   ]
  },
  {
   "cell_type": "code",
   "execution_count": 16,
   "metadata": {},
   "outputs": [],
   "source": [
    "@constraints example2_netprofit begin\n",
    "    capacity1[i in I, j in Jt1, n in N],\n",
    "      bm[i,j,n] <= vmax[i]*w[i,n]\n",
    "    capacity2[i in I, j in Jt2, n in N],\n",
    "      bm[i,j,n] <= vmax[i]*w[i,n]\n",
    "    capacity3[i in I, j in Jt3, n in N],\n",
    "      bm[i,j,n] <= vmax[i]*w[i,n]\n",
    "    capacity4[i in I, j in Jt4, n in N],\n",
    "      bm[i,j,n] <= vmax[i]*w[i,n]\n",
    "    capacity5[i in I, j in Jt5, n in N],\n",
    "      bm[i,j,n] <= vmax[i]*w[i,n]\n",
    "\n",
    "end"
   ]
  },
  {
   "cell_type": "markdown",
   "metadata": {},
   "source": [
    "# STORAGE CONSTRAINTS\n",
    "This constraint specifies the maximum storage capacity of each material state"
   ]
  },
  {
   "cell_type": "code",
   "execution_count": 17,
   "metadata": {},
   "outputs": [],
   "source": [
    "@constraints example2_netprofit begin\n",
    "    storage[s in S, n in N],\n",
    "      ST[s,n] <= STmax[s]\n",
    "end"
   ]
  },
  {
   "cell_type": "markdown",
   "metadata": {},
   "source": [
    "# MATERIAL BALANCE: INITIAL CONDITIONS\n",
    "This first set constraints is specifying the initial amount of each material state at event point 1\n"
   ]
  },
  {
   "cell_type": "code",
   "execution_count": 18,
   "metadata": {},
   "outputs": [],
   "source": [
    "@constraints example2_netprofit begin\n",
    "    matbal1a[s in S, n in N; s == S[1] && n == N[1]],\n",
    "      ST[s,n] == STin[s] + sum(rho[i,s]*bm[i,j,n] for i in Is1 for j in Jt1) + sum(rho[i,s]*bm[i,j,n] for i in Is1 for j in Jt2) - d[s,n]\n",
    "    matbal1b[s in S, n in N; s == S[2] && n == N[1]],\n",
    "      ST[s,n] == STin[s] + sum(rho[i,s]*bm[i,j,n] for i in Is2 for j in Jt3) - d[s,n]\n",
    "    matbal1c[s in S, n in N; s == S[3] && n == N[1]],\n",
    "      ST[s,n] == STin[s] + sum(rho[i,s]*bm[i,j,n] for i in Is3 for j in Jt4) + sum(rho[i,s]*bm[i,j,n] for i in Is3 for j in Jt5) - d[s,n]\n",
    "    matbal1d[s in S, n in N; s == S[4] && n == N[1]],\n",
    "      ST[s,n] == STin[s] - d[s,n]\n",
    "    \n",
    "end"
   ]
  },
  {
   "cell_type": "markdown",
   "metadata": {},
   "source": [
    "# MATERIAL BALANCE PROCESSED\n",
    "The second set of material balance performs a mass balnce on each state i.e. the amount of material s consumed at event point n by task i in unit j and the amount of material s produced at event point n-1 by task i in unit j\n"
   ]
  },
  {
   "cell_type": "code",
   "execution_count": 19,
   "metadata": {},
   "outputs": [],
   "source": [
    "@constraints example2_netprofit begin\n",
    "    matbal2a[s in S, n in 2:length(N); s == S[1]],\n",
    "      ST[s,n] == ST[s,n-1] + sum(rho[i,s]*bm[i,j,n] for j in Jt1 for i in Is1) + sum(rho[i,s]*bm[i,j,n] for j in Jt2 for i in Is1) - d[s,n]\n",
    "    matbal2b[s in S, n in 2:length(N); s == S[2]],\n",
    "      ST[s,n] == ST[s,n-1] + sum(rho[i,s]*bm[i,j,n-1] for j in Jt1 for i in Is2) + sum(rho[i,s]*bm[i,j,n-1] for j in Jt2 for i in Is2 ) + sum(rho[i,s]*bm[i,j,n] for j in Jt3 for i in Is2 ) - d[s,n]\n",
    "    matbal2c[s in S, n in 2:length(N); s == S[3]],\n",
    "      ST[s,n] == ST[s,n-1] + sum(rho[i,s]*bm[i,j,n-1] for j in Jt3 for i in Is3) + sum(rho[i,s]*bm[i,j,n] for j in Jt4 for i in Is3 ) + sum(rho[i,s]*bm[i,j,n] for j in Jt5 for i in Is3 ) - d[s,n]\n",
    "    matbal2d[s in S, n in 2:length(N); s == S[4]],\n",
    "      ST[s,n] == ST[s,n-1] + sum(rho[i,s]*bm[i,j,n-1] for j in Jt4 for i in Is4 ) + sum(rho[i,s]*bm[i,j,n-1] for j in Jt5 for i in Is4 ) - d[s,n]\n",
    "    \n",
    "end"
   ]
  },
  {
   "cell_type": "markdown",
   "metadata": {},
   "source": [
    "# DURATION CONSTRAINTS\n",
    "These constraints don't only specify how long task i will take in unit j but also specifies the dependence of the duration\n",
    "on the amount of material to be processed by task i in unit j."
   ]
  },
  {
   "cell_type": "code",
   "execution_count": 20,
   "metadata": {},
   "outputs": [],
   "source": [
    "@constraints example2_netprofit begin\n",
    "    duration1[i in I, j in Jt1, n in N],\n",
    "      Tf[i,j,n] == Ts[i,j,n] + alpha[i]*w[i,n] + beta[i]*bm[i,j,n]\n",
    "    duration2[i in I, j in Jt2, n in N],\n",
    "      Tf[i,j,n] == Ts[i,j,n] + alpha[i]*w[i,n] + beta[i]*bm[i,j,n]\n",
    "    duration3[i in I, j in Jt3, n in N],\n",
    "      Tf[i,j,n] == Ts[i,j,n] + alpha[i]*w[i,n] + beta[i]*bm[i,j,n]\n",
    "    duration4[i in I, j in Jt4, n in N],\n",
    "      Tf[i,j,n] == Ts[i,j,n] + alpha[i]*w[i,n] + beta[i]*bm[i,j,n]\n",
    "    duration5[i in I, j in Jt5, n in N],\n",
    "      Tf[i,j,n] == Ts[i,j,n] + alpha[i]*w[i,n] + beta[i]*bm[i,j,n]\n",
    "\n",
    "end"
   ]
  },
  {
   "cell_type": "markdown",
   "metadata": {},
   "source": [
    "# SEQUENCE CONSTRAINTS\n",
    "\n",
    "# i. Same Task in Same Unit\n",
    "The first set of sequence specify that the start of task i at event point n+1 should start after the end of event point n for the same task performed in unit j.\n"
   ]
  },
  {
   "cell_type": "code",
   "execution_count": 21,
   "metadata": {},
   "outputs": [],
   "source": [
    "@constraints example2_netprofit begin\n",
    "    sequence1a[i in I, j in Jt1, n in 1:length(N)-1],\n",
    "      Ts[i,j,n+1] >= Tf[i,j,n] -  H*(2 - w[i,n]- y[j,n])\n",
    "    sequence1b[i in I, j in Jt2, n in 1:length(N)-1],\n",
    "      Ts[i,j,n+1] >= Tf[i,j,n] - H*(2 - w[i,n]- y[j,n])\n",
    "    sequence1c[i in I, j in Jt3, n in 1:length(N)-1],\n",
    "      Ts[i,j,n+1] >= Tf[i,j,n] - H*(2 - w[i,n]- y[j,n])\n",
    "    sequence1d[i in I, j in Jt4, n in 1:length(N)-1],\n",
    "      Ts[i,j,n+1] >= Tf[i,j,n] - H*(2 - w[i,n]- y[j,n])\n",
    "    sequence1e[i in I, j in Jt5, n in 1:length(N)-1],\n",
    "      Ts[i,j,n+1] >= Tf[i,j,n] - H*(2 - w[i,n]- y[j,n])\n",
    "\n",
    "    sequence2a[i in I, j in Jt1, n in 1:length(N)-1],\n",
    "      Ts[i,j,n+1] >= Ts[i,j,n]\n",
    "    sequence2b[i in I, j in Jt2, n in 1:length(N)-1],\n",
    "      Ts[i,j,n+1] >= Ts[i,j,n]\n",
    "    sequence2c[i in I, j in Jt3, n in 1:length(N)-1],\n",
    "      Ts[i,j,n+1] >= Ts[i,j,n]\n",
    "    sequence2d[i in I, j in Jt4, n in 1:length(N)-1],\n",
    "      Ts[i,j,n+1] >= Ts[i,j,n]\n",
    "    sequence2e[i in I, j in Jt5, n in 1:length(N)-1],\n",
    "      Ts[i,j,n+1] >= Ts[i,j,n]\n",
    "\n",
    "    sequence3a[i in I, j in Jt1, n in 1:length(N)-1],\n",
    "      Tf[i,j,n+1] >= Tf[i,j,n]\n",
    "    sequence3b[i in I, j in Jt2, n in 1:length(N)-1],\n",
    "      Tf[i,j,n+1] >= Tf[i,j,n]\n",
    "    sequence3c[i in I, j in Jt3, n in 1:length(N)-1],\n",
    "      Tf[i,j,n+1] >= Tf[i,j,n]\n",
    "    sequence3d[i in I, j in Jt4, n in 1:length(N)-1],\n",
    "      Tf[i,j,n+1] >= Tf[i,j,n]\n",
    "    sequence3e[i in I, j in Jt5, n in 1:length(N)-1],\n",
    "      Tf[i,j,n+1] >= Tf[i,j,n]\n",
    "\n",
    "end"
   ]
  },
  {
   "cell_type": "markdown",
   "metadata": {},
   "source": [
    "# ii. Different Task in Same Unit\n",
    "The following constraints establishes the relationship between the starting time of task i at point n+1 and the end time of task i′ (ip) at event point n when different tasks take place in the same unit."
   ]
  },
  {
   "cell_type": "code",
   "execution_count": 22,
   "metadata": {},
   "outputs": [],
   "source": [
    "@constraints example2_netprofit begin\n",
    "    sequence4a[i in Ij1, ip in Ij1, j in J, n in 1:length(N)-1; i != ip],\n",
    "      Ts[i,j,n+1] >= Tf[ip,j,n] - H*(2 - w[ip,n] - y[j,n])\n",
    "    sequence4b[i in Ij2, ip in Ij2, j in J, n in 1:length(N)-1; i != ip],\n",
    "      Ts[i,j,n+1] >= Tf[ip,j,n] - H*(2 - w[ip,n] - y[j,n])\n",
    "    sequence4c[i in Ij3, ip in Ij3, j in J, n in 1:length(N)-1; i != ip],\n",
    "      Ts[i,j,n+1] >= Tf[ip,j,n] - H*(2 - w[ip,n] - y[j,n])\n",
    "    sequence4d[i in Ij2, ip in Ij4, j in J, n in 1:length(N)-1; i != ip],\n",
    "      Ts[i,j,n+1] >= Tf[ip,j,n] - H*(2 - w[ip,n] - y[j,n])\n",
    "    sequence4e[i in Ij3, ip in Ij5, j in J, n in 1:length(N)-1; i != ip],\n",
    "      Ts[i,j,n+1] >= Tf[ip,j,n] - H*(2 - w[ip,n] - y[j,n])\n",
    "   \n",
    "end"
   ]
  },
  {
   "cell_type": "markdown",
   "metadata": {},
   "source": [
    "# ii. Different Task in Different Units\n",
    "\n",
    "When different tasks i and i′ are performed in different units j and j′ but take place one after the other according to the production recipe.These constraints specify the order in which then tasks in each unit should be performed i.e. mixing then reaction then purification.\n"
   ]
  },
  {
   "cell_type": "code",
   "execution_count": 23,
   "metadata": {},
   "outputs": [],
   "source": [
    "@constraints example2_netprofit begin\n",
    "    sequence5a[i in I, ip in I, j in Jt3, jp in J, n in 1:length(N)-1; i == I[3] && ip == I[1] && jp == J[1]],\n",
    "      Ts[i,j,n+1] >= Tf[ip,jp,n] - H*(2 - w[ip,n] - y[jp,n])\n",
    "    sequence5b[i in I, ip in I, j in Jt3, jp in J, n in 1:length(N)-1; i == I[3] && ip == I[2] && jp == J[2]],\n",
    "      Ts[i,j,n+1] >= Tf[ip,jp,n] - H*(2 - w[ip,n] - y[jp,n])\n",
    "    sequence5c[i in I, ip in I, j in Jt4, jp in J, n in 1:length(N)-1; i == I[4] && ip == I[3] && jp == J[3]],\n",
    "      Ts[i,j,n+1] >= Tf[ip,jp,n] - H*(2 - w[ip,n] - y[jp,n])\n",
    "    sequence5d[i in I, ip in I, j in Jt5, jp in J, n in 1:length(N)-1; i == I[5] && ip == I[3] && jp == J[3]],\n",
    "      Ts[i,j,n+1] >= Tf[ip,jp,n] - H*(2 - w[ip,n] - y[jp,n])\n",
    "    sequence5e[i in I, ip in I, j in Jt3, jp in J, n in 1:length(N)-1; i == I[3] && ip == I[4] && jp == J[4]],\n",
    "      Ts[i,j,n+1] >= Tf[ip,jp,n] - H*(2 - w[ip,n] - y[jp,n])\n",
    "    sequence5f[i in I, ip in I, j in Jt3, jp in J, n in 1:length(N)-1; i == I[3] && ip == I[5] && jp == J[5]],\n",
    "      Ts[i,j,n+1] >= Tf[ip,jp,n] - H*(2 - w[ip,n] - y[jp,n])\n",
    "    \n",
    "end"
   ]
  },
  {
   "cell_type": "markdown",
   "metadata": {},
   "source": [
    "# iv. Completion of previous tasks\n",
    "A task i' (ip) performed in unit j cannot start until task i in unit j is completed\n"
   ]
  },
  {
   "cell_type": "code",
   "execution_count": 24,
   "metadata": {},
   "outputs": [],
   "source": [
    "@constraints example2_netprofit begin\n",
    "   sequence6a[i in I, j in Jt1, n in 1:length(N)-1],\n",
    "     Ts[i,j,n+1] >= sum(Tf[ip,j,np] - Ts[ip,j,np] for np in N if np <= n for ip in Ij1)\n",
    "   sequence6b[i in I, j in Jt1, n in 1:length(N)-1],\n",
    "     Ts[i,j,n+1] >= sum(Tf[ip,j,np] - Ts[ip,j,np] for np in N if np <= n for ip in Ij2)\n",
    "   sequence6c[i in I, j in Jt1, n in 1:length(N)-1],\n",
    "     Ts[i,j,n+1] >= sum(Tf[ip,j,np] - Ts[ip,j,np] for np in N if np <= n for ip in Ij3)\n",
    "   sequence6d[i in I, j in Jt1, n in 1:length(N)-1],\n",
    "     Ts[i,j,n+1] >= sum(Tf[ip,j,np] - Ts[ip,j,np] for np in N if np <= n for ip in Ij4)\n",
    "   sequence6e[i in I, j in Jt1, n in 1:length(N)-1],\n",
    "     Ts[i,j,n+1] >= sum(Tf[ip,j,np] - Ts[ip,j,np] for np in N if np <= n for ip in Ij5)\n",
    "\n",
    "   sequence7a[i in I, j in Jt2, n in 1:length(N)-1],\n",
    "     Ts[i,j,n+1] >= sum(Tf[ip,j,np] - Ts[ip,j,np] for np in N if np <= n for ip in Ij1)\n",
    "   sequence7b[i in I, j in Jt2, n in 1:length(N)-1],\n",
    "     Ts[i,j,n+1] >= sum(Tf[ip,j,np] - Ts[ip,j,np] for np in N if np <= n for ip in Ij2)\n",
    "   sequence7c[i in I, j in Jt2, n in 1:length(N)-1],\n",
    "     Ts[i,j,n+1] >= sum(Tf[ip,j,np] - Ts[ip,j,np] for np in N if np <= n for ip in Ij3)\n",
    "   sequence7d[i in I, j in Jt2, n in 1:length(N)-1],\n",
    "     Ts[i,j,n+1] >= sum(Tf[ip,j,np] - Ts[ip,j,np] for np in N if np <= n for ip in Ij4)\n",
    "   sequence7e[i in I, j in Jt2, n in 1:length(N)-1],\n",
    "     Ts[i,j,n+1] >= sum(Tf[ip,j,np] - Ts[ip,j,np] for np in N if np <= n for ip in Ij5)\n",
    "\n",
    "   sequence8a[i in I, j in Jt3, n in 1:length(N)-1],\n",
    "     Ts[i,j,n+1] >= sum(Tf[ip,j,np] - Ts[ip,j,np] for np in N if np <= n for ip in Ij1)\n",
    "   sequence8b[i in I, j in Jt3, n in 1:length(N)-1],\n",
    "     Ts[i,j,n+1] >= sum(Tf[ip,j,np] - Ts[ip,j,np] for np in N if np <= n for ip in Ij2)\n",
    "   sequence8c[i in I, j in Jt3, n in 1:length(N)-1],\n",
    "     Ts[i,j,n+1] >= sum(Tf[ip,j,np] - Ts[ip,j,np] for np in N if np <= n for ip in Ij3)\n",
    "   sequence8d[i in I, j in Jt3, n in 1:length(N)-1],\n",
    "     Ts[i,j,n+1] >= sum(Tf[ip,j,np] - Ts[ip,j,np] for np in N if np <= n for ip in Ij4)\n",
    "   sequence8e[i in I, j in Jt3, n in 1:length(N)-1],\n",
    "     Ts[i,j,n+1] >= sum(Tf[ip,j,np] - Ts[ip,j,np] for np in N if np <= n for ip in Ij5)\n",
    "\n",
    "   sequence9a[i in I, j in Jt4, n in 1:length(N)-1],\n",
    "     Ts[i,j,n+1] >= sum(Tf[ip,j,np] - Ts[ip,j,np] for np in N if np <= n for ip in Ij1)\n",
    "   sequence9b[i in I, j in Jt4, n in 1:length(N)-1],\n",
    "     Ts[i,j,n+1] >= sum(Tf[ip,j,np] - Ts[ip,j,np] for np in N if np <= n for ip in Ij2)\n",
    "   sequence9c[i in I, j in Jt4, n in 1:length(N)-1],\n",
    "     Ts[i,j,n+1] >= sum(Tf[ip,j,np] - Ts[ip,j,np] for np in N if np <= n for ip in Ij3)\n",
    "   sequence9d[i in I, j in Jt4, n in 1:length(N)-1],\n",
    "     Ts[i,j,n+1] >= sum(Tf[ip,j,np] - Ts[ip,j,np] for np in N if np <= n for ip in Ij4)\n",
    "   sequence9e[i in I, j in Jt4, n in 1:length(N)-1],\n",
    "     Ts[i,j,n+1] >= sum(Tf[ip,j,np] - Ts[ip,j,np] for np in N if np <= n for ip in Ij5)\n",
    "\n",
    "   sequence10a[i in I, j in Jt5, n in 1:length(N)-1],\n",
    "     Ts[i,j,n+1] >= sum(Tf[ip,j,np] - Ts[ip,j,np] for np in N if np <= n for ip in Ij1)\n",
    "   sequence10b[i in I, j in Jt5, n in 1:length(N)-1],\n",
    "     Ts[i,j,n+1] >= sum(Tf[ip,j,np] - Ts[ip,j,np] for np in N if np <= n for ip in Ij2)\n",
    "   sequence10c[i in I, j in Jt5, n in 1:length(N)-1],\n",
    "     Ts[i,j,n+1] >= sum(Tf[ip,j,np] - Ts[ip,j,np] for np in N if np <= n for ip in Ij3)\n",
    "   sequence10d[i in I, j in Jt5, n in 1:length(N)-1],\n",
    "     Ts[i,j,n+1] >= sum(Tf[ip,j,np] - Ts[ip,j,np] for np in N if np <= n for ip in Ij4)\n",
    "   sequence10e[i in I, j in Jt5, n in 1:length(N)-1],\n",
    "     Ts[i,j,n+1] >= sum(Tf[ip,j,np] - Ts[ip,j,np] for np in N if np <= n for ip in Ij5)\n",
    "\n",
    "end"
   ]
  },
  {
   "cell_type": "markdown",
   "metadata": {},
   "source": [
    "# TIME HORIZON CONSTRAINTS\n",
    "Specify that all tasks should task place within the time horizon\n"
   ]
  },
  {
   "cell_type": "code",
   "execution_count": 25,
   "metadata": {},
   "outputs": [],
   "source": [
    "#TIME HORIZON CONSTRAINTS\n",
    "@constraints example2_netprofit begin\n",
    "    timehorizon1[i in I, j in J, n in N],\n",
    "      Ts[i,j,n] <= H\n",
    "    timehorizon2[i in I, j in J, n in N],\n",
    "      Tf[i,j,n] <= H\n",
    "    \n",
    "end"
   ]
  },
  {
   "cell_type": "markdown",
   "metadata": {},
   "source": [
    "# OBJECTIVE FUNCTION\n",
    "\n",
    "## Profit maximization"
   ]
  },
  {
   "cell_type": "code",
   "execution_count": 26,
   "metadata": {},
   "outputs": [
    {
     "data": {
      "text/latex": [
       "$$ 5 d_{s4,1} + 5 d_{s4,2} + 5 d_{s4,3} + 5 d_{s4,4} + 5 d_{s4,5} + 5 d_{s4,6} + 5 d_{s4,7} + 5 d_{s4,8} $$"
      ],
      "text/plain": [
       "5 d[s4,1] + 5 d[s4,2] + 5 d[s4,3] + 5 d[s4,4] + 5 d[s4,5] + 5 d[s4,6] + 5 d[s4,7] + 5 d[s4,8]"
      ]
     },
     "execution_count": 26,
     "metadata": {},
     "output_type": "execute_result"
    }
   ],
   "source": [
    "\n",
    "@objective example2_netprofit Max begin\n",
    "    sum((price[s]*d[s,n]) for n in N for s in S )\n",
    "end"
   ]
  },
  {
   "cell_type": "code",
   "execution_count": 27,
   "metadata": {},
   "outputs": [],
   "source": [
    "example2_netprofit;"
   ]
  },
  {
   "cell_type": "code",
   "execution_count": 28,
   "metadata": {},
   "outputs": [
    {
     "name": "stderr",
     "output_type": "stream",
     "text": [
      "┌ Info: Updated GAMS model type: UNDEFINED -> MIP\n",
      "└ @ GAMS C:\\Users\\glmab\\.julia\\packages\\GAMS\\0iAgU\\src\\MOI_wrapper\\solve.jl:63\n"
     ]
    },
    {
     "name": "stdout",
     "output_type": "stream",
     "text": [
      "--- Job moi.gms Start 04/15/21 16:30:54 34.2.0 r6925a71 WEX-WEI x86 64bit/MS Windows\n",
      "--- Applying:\n",
      "    C:\\GAMS\\34\\gmsprmNT.txt\n",
      "    C:\\Users\\glmab\\Documents\\GAMS\\gamsconfig.yaml\n",
      "--- GAMS Parameters defined\n",
      "    Input C:\\Users\\glmab\\AppData\\Local\\Temp\\gams_jl_rhq3yo\\moi.gms\n",
      "    ScrDir C:\\Users\\glmab\\AppData\\Local\\Temp\\gams_jl_rhq3yo\\225a\\\n",
      "    SysDir C:\\GAMS\\34\\\n",
      "    CurDir C:\\Users\\glmab\\AppData\\Local\\Temp\\gams_jl_rhq3yo\\\n",
      "    LimRow 0\n",
      "    LimCol 0\n",
      "    SolPrint 0\n",
      "    SavePoint 1\n",
      "    SolveLink 5\n",
      "    Threads 1\n",
      "Licensee: GAMS Community License for Grace Mabele        G200511|0002AO-GEN\n",
      "          University of the Witwatersrand, SOUTH AFRICA               CL174\n",
      "          C:\\GAMS\\34\\gamslice.txt\n",
      "          Grace Mabele, 711140@students.wits.ac.za                         \n",
      "          Community license for demonstration and instructional purposes only\n",
      "GAMS 34.2.0   Copyright (C) 1987-2021 GAMS Development. All rights reserved\n",
      "--- Starting compilation\n",
      "--- moi.gms(3485) 4 Mb\n",
      "--- Starting execution: elapsed 0:00:00.122\n",
      "--- moi.gms(3449) 5 Mb\n",
      "--- Generating MIP model moi\n",
      "--- moi.gms(3452) 5 Mb\n",
      "---   2,417 rows  745 columns  11,731 non-zeroes\n",
      "---   80 discrete-columns\n",
      "--- Executing CPLEX (Solvelink=5): elapsed 0:00:00.696\n",
      "\n",
      "IBM ILOG CPLEX   34.2.0 r6925a71 Released Feb 05, 2021 WEI x86 64bit/MS Window\n",
      "\n",
      "--- *** This solver runs with a community license. No commercial use.\n",
      "--- Space for names approximately 0.04 Mb\n",
      "--- Use option 'names no' to turn use of names off\n",
      "--- GMO memory 1.36 Mb (peak 1.36 Mb)\n",
      "--- Dictionary memory 0.00 Mb\n",
      "--- Cplex 20.1.0.0 link memory 0.04 Mb (peak 0.24 Mb)\n",
      "--- Starting Cplex\n",
      "\n",
      "Version identifier: 20.1.0.0 | 2020-11-10 | 9bedb6d68\n",
      "CPXPARAM_Advance                                 0\n",
      "CPXPARAM_Threads                                 1\n",
      "CPXPARAM_MIP_Display                             4\n",
      "CPXPARAM_MIP_Tolerances_AbsMIPGap                0\n",
      "Generic callback                                 0x50\n",
      "Found incumbent of value 0.000000 after 0.19 sec. (0.06 ticks)\n",
      "Tried aggregator 2 times.\n",
      "MIP Presolve eliminated 449 rows and 52 columns.\n",
      "MIP Presolve modified 182 coefficients.\n",
      "Aggregator did 40 substitutions.\n",
      "Reduced MIP has 1928 rows, 654 columns, and 10995 nonzeros.\n",
      "Reduced MIP has 40 binaries, 0 generals, 0 SOSs, and 0 indicators.\n",
      "Presolve time = 0.01 sec. (5.56 ticks)\n",
      "Probing time = 0.00 sec. (1.18 ticks)\n",
      "Tried aggregator 1 time.\n",
      "Detecting symmetries...\n",
      "Reduced MIP has 1928 rows, 654 columns, and 10995 nonzeros.\n",
      "Reduced MIP has 40 binaries, 0 generals, 0 SOSs, and 0 indicators.\n",
      "Presolve time = 0.00 sec. (4.29 ticks)\n",
      "Probing time = 0.02 sec. (1.17 ticks)\n",
      "MIP emphasis: balance optimality and feasibility.\n",
      "MIP search method: dynamic search.\n",
      "Parallel mode: none, using 1 thread.\n",
      "Initializing dual steep norms . . .\n",
      "\n",
      "Iteration log . . .\n",
      "Iteration:     1   Dual objective     =         21000.000000\n",
      "Perturbation started.\n",
      "Iteration:    51   Dual objective     =         21000.000000\n",
      "Iteration:   143   Dual objective     =         20999.999873\n",
      "Iteration:   269   Dual objective     =         18738.762054\n",
      "Iteration:   390   Dual objective     =         17984.262564\n",
      "Iteration:   488   Dual objective     =         15999.998509\n",
      "Iteration:   615   Dual objective     =         12499.998642\n",
      "Iteration:   720   Dual objective     =         11999.998559\n",
      "Iteration:   816   Dual objective     =         11999.997501\n",
      "Iteration:   902   Dual objective     =         11982.369211\n",
      "Removing perturbation.\n",
      "Root relaxation solution time = 0.14 sec. (35.03 ticks)\n",
      "\n",
      "        Nodes                                         Cuts/\n",
      "   Node  Left     Objective  IInf  Best Integer    Best Bound    ItCnt     Gap\n",
      "\n",
      "*     0+    0                            0.0000    21000.0000              --- \n",
      "Found incumbent of value 0.000000 after 0.38 sec. (49.39 ticks)\n",
      "      0     0    11982.3679    22        0.0000    11982.3679      993     --- \n",
      "*     0+    0                        10999.6249    11982.3679             8.93%\n",
      "Found incumbent of value 10999.624906 after 0.39 sec. (60.37 ticks)\n",
      "      0     0    11970.8390    15    10999.6249      Cuts: 23     1024    8.83%\n",
      "      0     0    11956.5561    15    10999.6249      Cuts: 18     1064    8.70%\n",
      "      0     0    11948.0965    14    10999.6249      Cuts: 15     1085    8.62%\n",
      "      0     0    11940.5982    15    10999.6249      Cuts: 15     1116    8.55%\n",
      "      0     0    11940.5978    14    10999.6249       Cuts: 7     1123    8.55%\n",
      "Detecting symmetries...\n",
      "Detecting symmetries...\n",
      "      0     2    11940.5978    13    10999.6249    11940.5971     1123    8.55%\n",
      "Elapsed time = 0.66 sec. (281.49 ticks, tree = 0.01 MB, solutions = 1)\n",
      "     32    28    10999.7749    10    10999.6249    11892.4633     4119    8.12%\n",
      "                                                  Impl Bds: 2                  \n",
      "     80    57    10999.6327     9    10999.6249    11886.1782     7343    8.06%\n",
      "                                                      Cuts: 4                  \n",
      "    116    74    11000.0000    16    10999.6249    11811.3116    10422    7.38%\n",
      "                                                   MIRcuts: 2                  \n",
      "    157    89    11000.0000    19    10999.6249    11614.4368    13304    5.59%\n",
      "                                                  Impl Bds: 1                  \n",
      "    215   107    11105.4346    16    10999.6249    11494.6929    15938    4.50%\n",
      "                                                   MIRcuts: 2                  \n",
      "    286   130    11158.8600    10    10999.6249    11372.3137    18545    3.39%\n",
      "                                                   MIRcuts: 5                  \n",
      "\n",
      "Implied bound cuts applied:  4\n",
      "Flow cuts applied:  5\n",
      "Mixed integer rounding cuts applied:  31\n",
      "Lift and project cuts applied:  1\n",
      "Gomory fractional cuts applied:  3\n",
      "\n",
      "Root node processing (before b&c):\n",
      "  Real time             =    0.66 sec. (281.50 ticks)\n",
      "Sequential b&c:\n",
      "  Real time             =    1.50 sec. (1689.74 ticks)\n",
      "                          ------------\n",
      "Total (root+branch&cut) =    2.16 sec. (1971.24 ticks)\n",
      "\n",
      "--- MIP status (102): integer optimal, tolerance.\n",
      "--- Cplex Time: 2.17sec (det. 1971.24 ticks)\n",
      "\n",
      "--- Fixing integer variables and solving final LP...\n",
      "\n",
      "Version identifier: 20.1.0.0 | 2020-11-10 | 9bedb6d68\n",
      "CPXPARAM_Advance                                 2\n",
      "CPXPARAM_Threads                                 1\n",
      "CPXPARAM_MIP_Display                             4\n",
      "CPXPARAM_MIP_Tolerances_AbsMIPGap                0\n",
      "Tried aggregator 1 time.\n",
      "LP Presolve eliminated 1734 rows and 392 columns.\n",
      "Aggregator did 126 substitutions.\n",
      "Reduced LP has 557 rows, 228 columns, and 1968 nonzeros.\n",
      "Presolve time = 0.00 sec. (2.48 ticks)\n",
      "Initializing dual steep norms . . .\n",
      "\n",
      "Iteration log . . .\n",
      "Iteration:     1   Dual objective     =         12000.000000\n",
      "Perturbation started.\n",
      "Iteration:    51   Dual objective     =         12000.000000\n",
      "Iteration:   166   Dual objective     =         10999.998495\n",
      "Removing perturbation.\n",
      "\n",
      "--- Fixed MIP status (1): optimal.\n",
      "--- Cplex Time: 0.05sec (det. 5.04 ticks)\n",
      "\n",
      "\n",
      "Solution satisfies tolerances\n",
      "MIP Solution:        10999.624906    (20337 iterations, 371 nodes)\n",
      "Final Solve:         10999.624906    (174 iterations)\n",
      "\n",
      "Best possible:       11000.000000\n",
      "Absolute gap:            0.375094\n",
      "Relative gap:            0.000034\n",
      "\n",
      "--- Reading solution for model moi\n",
      "--- GDX Point C:\\Users\\glmab\\AppData\\Local\\Temp\\gams_jl_rhq3yo\\moi_p.gdx\n",
      "--- Executing after solve: elapsed 0:00:04.113\n",
      "--- moi.gms(3485) 5 Mb\n",
      "--- GDX File (execute_unload) C:\\Users\\glmab\\AppData\\Local\\Temp\\gams_jl_rhq3yo\\moi_stats.gdx\n",
      "*** Status: Normal completion\n",
      "--- Job moi.gms Stop 04/15/21 16:30:58 elapsed 0:00:04.120\n"
     ]
    }
   ],
   "source": [
    "optimize!(example2_netprofit)"
   ]
  },
  {
   "cell_type": "code",
   "execution_count": 29,
   "metadata": {},
   "outputs": [],
   "source": [
    "example2_netprofit;"
   ]
  },
  {
   "cell_type": "markdown",
   "metadata": {},
   "source": [
    "# Optimal Value and Schedule"
   ]
  },
  {
   "cell_type": "code",
   "execution_count": 30,
   "metadata": {},
   "outputs": [
    {
     "name": "stdout",
     "output_type": "stream",
     "text": [
      "Optimal Solution: 10999.624906226556\n",
      "Optimal Schedule: \n",
      "2-dimensional DenseAxisArray{Float64,2,...} with index sets:\n",
      "    Dimension 1, [\"t1\", \"t2\", \"t3\", \"t4\", \"t5\"]\n",
      "    Dimension 2, 1:1:8\n",
      "And data, a 5×8 Array{Float64,2}:\n",
      " 1.0  0.0  0.0  0.0  0.0  0.0  0.0  0.0\n",
      " 1.0  1.0  0.0  0.0  0.0  0.0  0.0  0.0\n",
      " 1.0  1.0  1.0  1.0  0.0  0.0  0.0  0.0\n",
      " 1.0  1.0  1.0  1.0  0.0  0.0  0.0  0.0\n",
      " 1.0  1.0  1.0  1.0  0.0  0.0  0.0  0.0\n",
      "3-dimensional DenseAxisArray{Float64,3,...} with index sets:\n",
      "    Dimension 1, [\"t1\", \"t2\", \"t3\", \"t4\", \"t5\"]\n",
      "    Dimension 2, [\"j1\", \"j2\", \"j3\", \"j4\", \"j5\"]\n",
      "    Dimension 3, 1:1:8\n",
      "And data, a 5×5×8 Array{Float64,3}:\n",
      "[:, :, 1] =\n",
      " 0.0  74.98124531132785   99.96249062265565    0.0    0.0\n",
      " 0.0  74.98124531132783   99.96249062265565    0.0    0.0\n",
      " 0.0   0.0               199.9249812453113   200.0  200.0\n",
      " 0.0   0.0                 0.0                 0.0  150.0\n",
      " 0.0   0.0                 0.0               150.0  100.0\n",
      "\n",
      "[:, :, 2] =\n",
      "   0.0               0.0                 0.0                 0.0    0.0\n",
      " 124.9812453113276  75.01875468867217   50.03750937734433    0.0    0.0\n",
      "   0.0               0.0               200.0               200.0  200.0\n",
      "   0.0               0.0                 0.0               150.0  149.9249812453113\n",
      "   0.0               0.0                 0.0               150.0  150.0\n",
      "\n",
      "[:, :, 3] =\n",
      " 0.0  0.0    0.0                 0.0    0.0\n",
      " 0.0  0.0    0.0                 0.0    0.0\n",
      " 0.0  0.0  199.99999999999977  200.0  200.0\n",
      " 0.0  0.0    0.0               150.0  150.0\n",
      " 0.0  0.0    0.0               150.0  150.0\n",
      "\n",
      "[:, :, 4] =\n",
      " 0.0  0.0  0.0    0.0                 0.0\n",
      " 0.0  0.0  0.0    0.0                 0.0\n",
      " 0.0  0.0  0.0  200.0               200.0\n",
      " 0.0  0.0  0.0  150.00000000000023  150.0\n",
      " 0.0  0.0  0.0  150.0               149.99999999999955\n",
      "\n",
      "[:, :, 5] =\n",
      " 0.0  0.0  0.0  0.0  0.0\n",
      " 0.0  0.0  0.0  0.0  0.0\n",
      " 0.0  0.0  0.0  0.0  0.0\n",
      " 0.0  0.0  0.0  0.0  0.0\n",
      " 0.0  0.0  0.0  0.0  0.0\n",
      "\n",
      "[:, :, 6] =\n",
      " 0.0  0.0  0.0  0.0  0.0\n",
      " 0.0  0.0  0.0  0.0  0.0\n",
      " 0.0  0.0  0.0  0.0  0.0\n",
      " 0.0  0.0  0.0  0.0  0.0\n",
      " 0.0  0.0  0.0  0.0  0.0\n",
      "\n",
      "[:, :, 7] =\n",
      " 0.0  0.0  0.0  0.0  0.0\n",
      " 0.0  0.0  0.0  0.0  0.0\n",
      " 0.0  0.0  0.0  0.0  0.0\n",
      " 0.0  0.0  0.0  0.0  0.0\n",
      " 0.0  0.0  0.0  0.0  0.0\n",
      "\n",
      "[:, :, 8] =\n",
      " 0.0  0.0  0.0  0.0  0.0\n",
      " 0.0  0.0  0.0  0.0  0.0\n",
      " 0.0  0.0  0.0  0.0  0.0\n",
      " 0.0  0.0  0.0  0.0  0.0\n",
      " 0.0  0.0  0.0  0.0  0.0\n",
      "3-dimensional DenseAxisArray{Float64,3,...} with index sets:\n",
      "    Dimension 1, [\"t1\", \"t2\", \"t3\", \"t4\", \"t5\"]\n",
      "    Dimension 2, [\"j1\", \"j2\", \"j3\", \"j4\", \"j5\"]\n",
      "    Dimension 3, 1:1:8\n",
      "And data, a 5×5×8 Array{Float64,3}:\n",
      "[:, :, 1] =\n",
      " 0.0  0.0  0.0  0.0                 0.0\n",
      " 0.0  0.0  0.0  0.0                 0.0\n",
      " 0.0  0.0  0.0  0.0                 0.0\n",
      " 0.0  0.0  0.0  1.9984999999999997  0.6655\n",
      " 0.0  0.0  0.0  0.6655              0.8879999999999999\n",
      "\n",
      "[:, :, 2] =\n",
      " 8.0    8.0     8.0                 8.0                 8.0\n",
      " 1.333  2.3325  2.6654999999999998  2.6654999999999998  2.0\n",
      " 1.333  2.3325  2.6654999999999998  2.0                 2.0\n",
      " 1.333  2.3325  2.6654999999999998  3.3309999999999995  2.6658338334583647\n",
      " 1.333  2.3325  2.6654999999999998  2.0                 2.6654999999999998\n",
      "\n",
      "[:, :, 3] =\n",
      " 8.0                8.0     8.0     8.0                8.0\n",
      " 8.0                8.0     8.0     8.0                8.0\n",
      " 4.331999999999997  4.6655  4.6655  4.0                4.0\n",
      " 4.331999999999997  4.6655  4.6655  5.330999999999999  4.0\n",
      " 4.331999999999997  4.6655  4.6655  4.0                4.6655\n",
      "\n",
      "[:, :, 4] =\n",
      " 8.0                8.0     8.0                8.0                8.0\n",
      " 8.0                8.0     8.0                8.0                8.0\n",
      " 4.331999999999997  4.6655  6.665499999999999  6.0                6.0\n",
      " 4.331999999999997  4.6655  5.999624906226556  6.665499999999999  6.0\n",
      " 4.331999999999997  4.6655  5.999624906226556  6.0                6.665500000000002\n",
      "\n",
      "[:, :, 5] =\n",
      " 8.0  8.0  8.0  8.0  8.0\n",
      " 8.0  8.0  8.0  8.0  8.0\n",
      " 8.0  8.0  8.0  8.0  8.0\n",
      " 8.0  8.0  8.0  8.0  8.0\n",
      " 8.0  8.0  8.0  8.0  8.0\n",
      "\n",
      "[:, :, 6] =\n",
      " 8.0  8.0  8.0  8.0  8.0\n",
      " 8.0  8.0  8.0  8.0  8.0\n",
      " 8.0  8.0  8.0  8.0  8.0\n",
      " 8.0  8.0  8.0  8.0  8.0\n",
      " 8.0  8.0  8.0  8.0  8.0\n",
      "\n",
      "[:, :, 7] =\n",
      " 8.0  8.0  8.0  8.0  8.0\n",
      " 8.0  8.0  8.0  8.0  8.0\n",
      " 8.0  8.0  8.0  8.0  8.0\n",
      " 8.0  8.0  8.0  8.0  8.0\n",
      " 8.0  8.0  8.0  8.0  8.0\n",
      "\n",
      "[:, :, 8] =\n",
      " 8.0  8.0  8.0  8.0  8.0\n",
      " 8.0  8.0  8.0  8.0  8.0\n",
      " 8.0  8.0  8.0  8.0  8.0\n",
      " 8.0  8.0  8.0  8.0  8.0\n",
      " 8.0  8.0  8.0  8.0  8.0\n",
      "3-dimensional DenseAxisArray{Float64,3,...} with index sets:\n",
      "    Dimension 1, [\"t1\", \"t2\", \"t3\", \"t4\", \"t5\"]\n",
      "    Dimension 2, [\"j1\", \"j2\", \"j3\", \"j4\", \"j5\"]\n",
      "    Dimension 3, 1:1:8\n",
      "And data, a 5×5×8 Array{Float64,3}:\n",
      "[:, :, 1] =\n",
      " 1.333  2.3325  2.6654999999999998  1.333               1.333\n",
      " 1.333  2.3325  2.6654999999999998  1.333               1.333\n",
      " 1.0    1.0     1.9996249062265565  2.0                 2.0\n",
      " 0.667  0.667   0.667               2.6654999999999998  2.0\n",
      " 0.667  0.667   0.667               2.0                 2.0\n",
      "\n",
      "[:, :, 2] =\n",
      " 8.0                8.0                 8.0                 8.0     8.0\n",
      " 4.331999999999997  4.6655              4.6655              3.9985  3.333\n",
      " 2.333              3.3325              4.6655              4.0     4.0\n",
      " 2.0                2.9995000000000003  3.3324999999999996  4.6655  4.0\n",
      " 2.0                2.9995000000000003  3.3324999999999996  3.3345  4.0\n",
      "\n",
      "[:, :, 3] =\n",
      " 8.0                8.0     8.0                8.0                8.0\n",
      " 8.0                8.0     8.0                8.0                8.0\n",
      " 5.331999999999997  5.6655  6.665499999999999  6.0                6.0\n",
      " 4.998999999999997  5.3325  5.3325             6.665499999999999  5.3345\n",
      " 4.998999999999997  5.3325  5.3325             5.3345             6.0\n",
      "\n",
      "[:, :, 4] =\n",
      " 8.0                8.0     8.0                8.0     8.0\n",
      " 8.0                8.0     8.0                8.0     8.0\n",
      " 5.331999999999997  5.6655  7.665499999999999  8.0     8.0\n",
      " 4.998999999999997  5.3325  6.666624906226556  8.0     7.3345\n",
      " 4.998999999999997  5.3325  6.666624906226556  7.3345  8.0\n",
      "\n",
      "[:, :, 5] =\n",
      " 8.0  8.0  8.0  8.0  8.0\n",
      " 8.0  8.0  8.0  8.0  8.0\n",
      " 8.0  8.0  8.0  8.0  8.0\n",
      " 8.0  8.0  8.0  8.0  8.0\n",
      " 8.0  8.0  8.0  8.0  8.0\n",
      "\n",
      "[:, :, 6] =\n",
      " 8.0  8.0  8.0  8.0  8.0\n",
      " 8.0  8.0  8.0  8.0  8.0\n",
      " 8.0  8.0  8.0  8.0  8.0\n",
      " 8.0  8.0  8.0  8.0  8.0\n",
      " 8.0  8.0  8.0  8.0  8.0\n",
      "\n",
      "[:, :, 7] =\n",
      " 8.0  8.0  8.0  8.0  8.0\n",
      " 8.0  8.0  8.0  8.0  8.0\n",
      " 8.0  8.0  8.0  8.0  8.0\n",
      " 8.0  8.0  8.0  8.0  8.0\n",
      " 8.0  8.0  8.0  8.0  8.0\n",
      "\n",
      "[:, :, 8] =\n",
      " 8.0  8.0  8.0  8.0  8.0\n",
      " 8.0  8.0  8.0  8.0  8.0\n",
      " 8.0  8.0  8.0  8.0  8.0\n",
      " 8.0  8.0  8.0  8.0  8.0\n",
      " 8.0  8.0  8.0  8.0  8.0\n"
     ]
    }
   ],
   "source": [
    "println(\"Optimal Solution: \", JuMP.objective_value(example2_netprofit))\n",
    "println(\"Optimal Schedule: \")\n",
    "println(JuMP.value.(w))\n",
    "println(JuMP.value.(bm))\n",
    "println(JuMP.value.(Ts))\n",
    "println(JuMP.value.(Tf))"
   ]
  }
 ],
 "metadata": {
  "kernelspec": {
   "display_name": "Julia 1.5.2",
   "language": "julia",
   "name": "julia-1.5"
  },
  "language_info": {
   "file_extension": ".jl",
   "mimetype": "application/julia",
   "name": "julia",
   "version": "1.5.2"
  }
 },
 "nbformat": 4,
 "nbformat_minor": 4
}
