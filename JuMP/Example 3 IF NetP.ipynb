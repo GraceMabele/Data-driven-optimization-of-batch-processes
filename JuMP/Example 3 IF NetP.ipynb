{
 "cells": [
  {
   "cell_type": "code",
   "execution_count": 1,
   "metadata": {},
   "outputs": [],
   "source": [
    "using GAMS"
   ]
  },
  {
   "cell_type": "code",
   "execution_count": 2,
   "metadata": {},
   "outputs": [],
   "source": [
    "using JuMP"
   ]
  },
  {
   "cell_type": "code",
   "execution_count": 3,
   "metadata": {},
   "outputs": [],
   "source": [
    "using DataStructures"
   ]
  },
  {
   "cell_type": "code",
   "execution_count": 4,
   "metadata": {},
   "outputs": [],
   "source": [
    "using DataFrames"
   ]
  },
  {
   "cell_type": "code",
   "execution_count": 5,
   "metadata": {},
   "outputs": [],
   "source": [
    "using Surrogates"
   ]
  },
  {
   "cell_type": "code",
   "execution_count": 6,
   "metadata": {},
   "outputs": [],
   "source": [
    "using Flux"
   ]
  },
  {
   "cell_type": "code",
   "execution_count": 7,
   "metadata": {},
   "outputs": [],
   "source": [
    "using Statistics"
   ]
  },
  {
   "cell_type": "code",
   "execution_count": 8,
   "metadata": {},
   "outputs": [],
   "source": [
    "using GLPK"
   ]
  },
  {
   "cell_type": "markdown",
   "metadata": {},
   "source": [
    "# Novel mathematical formulation for the short-term scheduling of batch plants: Example 3\n",
    "\n",
    "This Model presents an application of the novel mathematical formulation for the short-term scheduling of batch plants. The proposed formulation by Ierapetritou and Floudas is used on a literature example by Susarla et al. that involves 4 tasks and 4 units.\n",
    "\n",
    "Formulation Source:\n",
    "Ierapetritou and Floudas (1998) Effective Continuous-Time Formulation for Short-Term Scheduling. 1. Multipurpose Batch Processes. Independent Engineering Chemical Research 37 (4341-4359)\n",
    "\n",
    "Example Source:\n",
    "Susarla et al. (2009) A Novel Approach to Scheduling Multipurpose Batch Plants Using Unit-Slots: MILP Example 1. AIChe Wiley InterScience Process Systems Engineering (1862 - 1866).\n",
    "\n",
    "Keywords:scheduling, multipurpose plants, batch processes, slot-based formulations, unit-slots, continuous-time"
   ]
  },
  {
   "cell_type": "code",
   "execution_count": 9,
   "metadata": {},
   "outputs": [],
   "source": [
    "H = 8;\n",
    "P = 100;"
   ]
  },
  {
   "cell_type": "markdown",
   "metadata": {},
   "source": [
    "# SETS\n",
    "\n",
    "Define the sets to be utilised in the MILP\n",
    "Please task note that if a task can be performed in more than one unit then it is considered a different task for each unit it can be performed in.\n"
   ]
  },
  {
   "cell_type": "code",
   "execution_count": 10,
   "metadata": {},
   "outputs": [],
   "source": [
    "I = [\"t1\",\"t2\",\"t3\",\"t4\"];\n",
    "J = [\"j1\",\"j2\",\"j3\",\"j4\"];\n",
    "N = range(1,P, step = 1);\n",
    "S = [\"s1\",\"s2\",\"s3\",\"s4\",\"s5\",\"s6\"];\n",
    "\n",
    "Jt1 = [J[1]];\n",
    "Jt2 = [J[2]];\n",
    "Jt3 = [J[3]];\n",
    "Jt4 = [J[4]];\n",
    "\n",
    "Ij1 = [I[1]];\n",
    "Ij2 = [I[2]];\n",
    "Ij3 = [I[3]];\n",
    "Ij4 = [I[4]];\n",
    "\n",
    "Is1 = [I[1]];\n",
    "Is2 = I[1:2];\n",
    "Is3 = [I[1], I[3]];\n",
    "Is4 = [I[2], I[4]];\n",
    "Is5 = I[3:4];\n",
    "Is6 = [I[4]];\n",
    "\n",
    "Ip = I;\n",
    "Jp = J;\n",
    "Np = N;\n"
   ]
  },
  {
   "cell_type": "markdown",
   "metadata": {},
   "source": [
    "# Parameters\n",
    "\n",
    "The available information for the process is given below i.e. storage capacity, initial available inventory,\n",
    "batch size and parameters alpha and beta which are the processing time parameters viz. constant and variable terms\n"
   ]
  },
  {
   "cell_type": "code",
   "execution_count": 11,
   "metadata": {},
   "outputs": [],
   "source": [
    "vmin = OrderedDict(\n",
    "   \"t1\" => 0,\n",
    "   \"t2\" => 0,\n",
    "   \"t3\" => 0,\n",
    "   \"t4\" => 0\n",
    ")\n",
    "\n",
    "vmax = OrderedDict(\n",
    "   \"t1\" => 40,\n",
    "   \"t2\" => 20,\n",
    "   \"t3\" => 5,\n",
    "   \"t4\" => 40\n",
    ")\n",
    "\n",
    "#STin = [10000, 0, 0, 0]\n",
    "STin = OrderedDict(\n",
    "     \"s1\" => 10000,\n",
    "     \"s2\" => 0,\n",
    "     \"s3\" => 0,\n",
    "     \"s4\" => 0,\n",
    "     \"s5\" => 0,\n",
    "     \"s6\" => 0\n",
    "\n",
    ")\n",
    "\n",
    "#STmax = [+inf, 200, 250, +inf ]\n",
    "STmax = OrderedDict(\n",
    "     \"s1\" => 10000,\n",
    "     \"s2\" => 10,\n",
    "     \"s3\" => 15,\n",
    "     \"s4\" => 10,\n",
    "     \"s5\" => 15,\n",
    "     \"s6\" => 10000\n",
    ")\n",
    "\n",
    "#alpha = [1.333, 1.333, 1.000, 0.667, 0.667]\n",
    "alpha = OrderedDict(\n",
    "\"t1\" => 1.666,\n",
    "\"t2\" => 2.333,\n",
    "\"t3\" => 0.667,\n",
    "\"t4\" => 2.667\n",
    "\n",
    ")\n",
    "\n",
    "#beta = [0.01333, 0.01333, 0.00500, 0.00445, 0.00445]\n",
    "beta = OrderedDict(\n",
    "\"t1\" => 0.03335,\n",
    "\"t2\" => 0.08335,\n",
    "\"t3\" => 0.01665,\n",
    "\"t4\" => 0.02664\n",
    ")\n",
    "\n",
    "price = OrderedDict(\n",
    "\"s1\" => 0,\n",
    "\"s2\" => 0,\n",
    "\"s3\" => 0,\n",
    "\"s4\" => 0,\n",
    "\"s5\" => 0,\n",
    "\"s6\" => 10\n",
    ")\n",
    "\n",
    "demand = OrderedDict(\n",
    "\"s1\" => 0,\n",
    "\"s2\" => 0,\n",
    "\"s3\" => 0,\n",
    "\"s4\" => 0,\n",
    "\"s5\" => 0,\n",
    "\"s6\" => 0\n",
    ")\n",
    "\n",
    "#Table p(i,s) 'proportion of state s produced (p(i,s) > 0), consumed (p(i,s) < 0) by task i'\n",
    "#            s1      s2       s3        s4       s5       s6\n",
    "#  t1        -1      +0.5     +0.5\n",
    "#  t2                -1                 +1\n",
    "#  t3                         -1                 +1\n",
    "#  t4                                   -0.5     -0.5     +1\n",
    "\n",
    "\n",
    "\n",
    "\n",
    "rho_table = DataFrame([(I = \"t1\", s1 = -1, s2 = +0.5, s3 = +0.5, s4 = 0, s5 = 0, s6 = 0 ),\n",
    "                   (I = \"t2\", s1 = 0, s2 = -1, s3 = 0, s4 = +1, s5 = 0, s6 = 0),\n",
    "                   (I = \"t3\", s1 = 0, s2 = 0, s3 = -1, s4 = 0, s5 = +1, s6 = 0 ),\n",
    "                   (I = \"t4\", s1 = 0, s2 = 0, s3 = 0, s4 = -0.5, s5 = -0.5, s6 = +1 ) ])\n",
    "\n",
    "rho = OrderedDict( (r[:I],states) => r[Symbol(states)] for r in eachrow(rho_table), states in S);"
   ]
  },
  {
   "cell_type": "markdown",
   "metadata": {},
   "source": [
    "# MODEL DEFINITION"
   ]
  },
  {
   "cell_type": "code",
   "execution_count": 12,
   "metadata": {},
   "outputs": [
    {
     "data": {
      "text/latex": [
       "$$ \\begin{alignat*}{1}\\text{feasibility}\\\\\n",
       "\\text{Subject to} \\quad\\end{alignat*}\n",
       " $$"
      ],
      "text/plain": [
       "A JuMP Model\n",
       "Feasibility problem with:\n",
       "Variables: 0\n",
       "Model mode: AUTOMATIC\n",
       "CachingOptimizer state: EMPTY_OPTIMIZER\n",
       "Solver name: GLPK"
      ]
     },
     "execution_count": 12,
     "metadata": {},
     "output_type": "execute_result"
    }
   ],
   "source": [
    "example3_netprofit = Model(GLPK.Optimizer)"
   ]
  },
  {
   "cell_type": "markdown",
   "metadata": {},
   "source": [
    "# VARIABLES"
   ]
  },
  {
   "cell_type": "code",
   "execution_count": 13,
   "metadata": {},
   "outputs": [],
   "source": [
    "@variables example3_netprofit begin\n",
    "    w[i in I, n in N], Bin\n",
    "    y[j in J, n in N], Bin\n",
    "    bm[i in I, j in J, n in N] >= 0\n",
    "    d[s in S, n in N] >= 0\n",
    "    ST[s in S, n in N] >= 0\n",
    "    Ts[i in I, j in J, n in N] >= 0\n",
    "    Tf[i in I, j in J, n in N] >= 0\n",
    "end"
   ]
  },
  {
   "cell_type": "markdown",
   "metadata": {},
   "source": [
    "# ALLOCATION CONSTRAINTS\n",
    "The allocation constraints express that at each unit j and at an event point n only one of the tasks that can be performed\n",
    "in this unit (i.e. i ∈ Ij ) should take place"
   ]
  },
  {
   "cell_type": "code",
   "execution_count": 14,
   "metadata": {},
   "outputs": [],
   "source": [
    "@constraints example3_netprofit begin\n",
    "    allocation1[j in J, n in N; j == J[1]],\n",
    "      sum(w[i,n] for i in Ij1) == y[j,n]\n",
    "    allocation2[j in J, n in N; j == J[2]],\n",
    "      sum(w[i,n] for i in Ij2) == y[j,n]  \n",
    "    allocation3[j in J, n in N; j == J[3]],\n",
    "      sum(w[i,n] for i in Ij3) == y[j,n]\n",
    "    allocation4[j in J, n in N; j == J[4]],\n",
    "      sum(w[i,n] for i in Ij4) == y[j,n]  \n",
    "end"
   ]
  },
  {
   "cell_type": "markdown",
   "metadata": {},
   "source": [
    "# CAPACITY CONSTRAINTS\n",
    "The capacity constraints specify the minimum or maximum amount of available material for a task to take place in a unit\n",
    "Since vmin is zero for all of them, the minimum capacity constraint is not defined\n"
   ]
  },
  {
   "cell_type": "code",
   "execution_count": 15,
   "metadata": {},
   "outputs": [],
   "source": [
    "@constraints example3_netprofit begin\n",
    "    capacity1[i in I, j in Jt1, n in N],\n",
    "      bm[i,j,n] <= vmax[i]*w[i,n]\n",
    "    capacity2[i in I, j in Jt2, n in N],\n",
    "      bm[i,j,n] <= vmax[i]*w[i,n]\n",
    "    capacity3[i in I, j in Jt3, n in N],\n",
    "      bm[i,j,n] <= vmax[i]*w[i,n]\n",
    "    capacity4[i in I, j in Jt4, n in N],\n",
    "      bm[i,j,n] <= vmax[i]*w[i,n]\n",
    "    \n",
    "end"
   ]
  },
  {
   "cell_type": "markdown",
   "metadata": {},
   "source": [
    "# STORAGE CONSTRAINTS\n",
    "This constraint specifies the maximum storage capacity of each material state"
   ]
  },
  {
   "cell_type": "code",
   "execution_count": 16,
   "metadata": {},
   "outputs": [],
   "source": [
    "@constraints example3_netprofit begin\n",
    "    storage[s in S, n in N],\n",
    "      ST[s,n] <= STmax[s]\n",
    "end"
   ]
  },
  {
   "cell_type": "markdown",
   "metadata": {},
   "source": [
    "# MATERIAL BALANCE: INITIAL CONDITIONS\n",
    "This first set constraints is specifying the initial amount of each material state at event point 1\n"
   ]
  },
  {
   "cell_type": "code",
   "execution_count": 17,
   "metadata": {},
   "outputs": [],
   "source": [
    "@constraints example3_netprofit begin\n",
    "    matbal1a[s in S, n in N; s == S[1] && n == N[1]],\n",
    "      ST[s,n] == STin[s] + sum(rho[i,s]*bm[i,j,n] for i in Is1 for j in Jt1) - d[s,n]\n",
    "    matbal1b[s in S, n in N; s == S[2] && n == N[1]],\n",
    "      ST[s,n] == STin[s] + sum(rho[i,s]*bm[i,j,n] for i in Is2 for j in Jt2) - d[s,n]\n",
    "    matbal1c[s in S, n in N; s == S[3] && n == N[1]],\n",
    "      ST[s,n] == STin[s] + sum(rho[i,s]*bm[i,j,n] for i in Is3 for j in Jt3) - d[s,n]\n",
    "    matbal1d[s in S, n in N; s == S[4] && n == N[1]],\n",
    "      ST[s,n] == STin[s] + sum(rho[i,s]*bm[i,j,n] for i in Is4 for j in Jt4) - d[s,n]\n",
    "    matbal1e[s in S, n in N; s == S[5] && n == N[1]],\n",
    "      ST[s,n] == STin[s] + sum(rho[i,s]*bm[i,j,n] for i in Is5 for j in Jt4) - d[s,n]\n",
    "    matbal1f[s in S, n in N; s == S[6] && n == N[1]],\n",
    "      ST[s,n] == STin[s] - d[s,n]\n",
    "    \n",
    "end"
   ]
  },
  {
   "cell_type": "markdown",
   "metadata": {},
   "source": [
    "# MATERIAL BALANCE: PROCESSED\n",
    "The second set of material balance performs a mass balnce on each state i.e. the amount of material s consumed at event point n by task i in unit j and the amount of material s produced at event point n-1 by task i in unit j\n"
   ]
  },
  {
   "cell_type": "code",
   "execution_count": 18,
   "metadata": {},
   "outputs": [],
   "source": [
    "@constraints example3_netprofit begin\n",
    "    matbal2a[s in S, n in 2:length(N); s == S[1]],\n",
    "      ST[s,n] == ST[s,n-1] + sum(rho[i,s]*bm[i,j,n] for j in Jt1 for i in Is1) - d[s,n]\n",
    "    matbal2b[s in S, n in 2:length(N); s == S[2]],\n",
    "      ST[s,n] == ST[s,n-1] + sum(rho[i,s]*bm[i,j,n] for j in Jt2 for i in Is2) + sum(rho[i,s]*bm[i,j,n-1] for j in Jt1 for i in Is2 ) - d[s,n]\n",
    "    matbal2c[s in S, n in 2:length(N); s == S[3]],\n",
    "      ST[s,n] == ST[s,n-1] + sum(rho[i,s]*bm[i,j,n] for j in Jt3 for i in Is3) + sum(rho[i,s]*bm[i,j,n-1] for j in Jt1 for i in Is3 )  - d[s,n]\n",
    "    matbal2d[s in S, n in 2:length(N); s == S[4]],\n",
    "      ST[s,n] == ST[s,n-1] + sum(rho[i,s]*bm[i,j,n] for j in Jt3 for i in Is4) + sum(rho[i,s]*bm[i,j,n-1] for j in Jt2 for i in Is4 ) - d[s,n]\n",
    "    matbal2e[s in S, n in 2:length(N); s == S[5]],\n",
    "      ST[s,n] == ST[s,n-1] + sum(rho[i,s]*bm[i,j,n] for j in Jt4 for i in Is5) + sum(rho[i,s]*bm[i,j,n-1] for j in Jt3 for i in Is5 )- d[s,n]\n",
    "    matbal2f[s in S, n in 2:length(N); s == S[6]],\n",
    "      ST[s,n] == ST[s,n-1] + sum(rho[i,s]*bm[i,j,n] for j in Jt4 for i in Is6) - d[s,n]\n",
    "    \n",
    "end"
   ]
  },
  {
   "cell_type": "markdown",
   "metadata": {},
   "source": [
    "# DURATION CONSTRAINTS\n",
    "These constraints don't only specify how long task i will take in unit j but also specifies the dependence of the duration\n",
    "on the amount of material to be processed by task i in unit j."
   ]
  },
  {
   "cell_type": "code",
   "execution_count": 19,
   "metadata": {},
   "outputs": [],
   "source": [
    "@constraints example3_netprofit begin\n",
    "    duration1[i in I, j in Jt1, n in N],\n",
    "      Tf[i,j,n] == Ts[i,j,n] + alpha[i]*w[i,n] + beta[i]*bm[i,j,n]\n",
    "    duration2[i in I, j in Jt2, n in N],\n",
    "      Tf[i,j,n] == Ts[i,j,n] + alpha[i]*w[i,n] + beta[i]*bm[i,j,n]\n",
    "    duration3[i in I, j in Jt3, n in N],\n",
    "      Tf[i,j,n] == Ts[i,j,n] + alpha[i]*w[i,n] + beta[i]*bm[i,j,n]\n",
    "    duration4[i in I, j in Jt4, n in N],\n",
    "      Tf[i,j,n] == Ts[i,j,n] + alpha[i]*w[i,n] + beta[i]*bm[i,j,n]\n",
    "end"
   ]
  },
  {
   "cell_type": "markdown",
   "metadata": {},
   "source": [
    "# SEQUENCE CONSTRAINTS"
   ]
  },
  {
   "cell_type": "markdown",
   "metadata": {},
   "source": [
    "# i. Same Task in Same Unit\n",
    "The first set of sequence specify that the start of task i at event point n+1 should start after the end of event point n\n",
    "for the same task performed in unit j."
   ]
  },
  {
   "cell_type": "code",
   "execution_count": 20,
   "metadata": {},
   "outputs": [],
   "source": [
    "@constraints example3_netprofit begin\n",
    "    sequence1a[i in I, j in Jt1, n in 1:length(N)-1],\n",
    "      Ts[i,j,n+1] >= Tf[i,j,n] -  H*(2 - w[i,n]- y[j,n])\n",
    "    sequence1b[i in I, j in Jt2, n in 1:length(N)-1],\n",
    "      Ts[i,j,n+1] >= Tf[i,j,n] - H*(2 - w[i,n]- y[j,n])\n",
    "    sequence1c[i in I, j in Jt3, n in 1:length(N)-1],\n",
    "      Ts[i,j,n+1] >= Tf[i,j,n] - H*(2 - w[i,n]- y[j,n])\n",
    "    sequence1d[i in I, j in Jt4, n in 1:length(N)-1],\n",
    "      Ts[i,j,n+1] >= Tf[i,j,n] - H*(2 - w[i,n]- y[j,n])\n",
    "\n",
    "    sequence2a[i in I, j in Jt1, n in 1:length(N)-1],\n",
    "      Ts[i,j,n+1] >= Ts[i,j,n]\n",
    "    sequence2b[i in I, j in Jt2, n in 1:length(N)-1],\n",
    "      Ts[i,j,n+1] >= Ts[i,j,n]\n",
    "    sequence2c[i in I, j in Jt3, n in 1:length(N)-1],\n",
    "      Ts[i,j,n+1] >= Ts[i,j,n]\n",
    "    sequence2d[i in I, j in Jt4, n in 1:length(N)-1],\n",
    "      Ts[i,j,n+1] >= Ts[i,j,n]\n",
    "\n",
    "    sequence3a[i in I, j in Jt1, n in 1:length(N)-1],\n",
    "      Tf[i,j,n+1] >= Tf[i,j,n]\n",
    "    sequence3b[i in I, j in Jt2, n in 1:length(N)-1],\n",
    "      Tf[i,j,n+1] >= Tf[i,j,n]\n",
    "    sequence3c[i in I, j in Jt3, n in 1:length(N)-1],\n",
    "      Tf[i,j,n+1] >= Tf[i,j,n]\n",
    "    sequence3d[i in I, j in Jt4, n in 1:length(N)-1],\n",
    "      Tf[i,j,n+1] >= Tf[i,j,n]\n",
    "end"
   ]
  },
  {
   "cell_type": "markdown",
   "metadata": {},
   "source": [
    "# ii. Different Task in Same Unit\n",
    "The following constraints establishes the relationship between the starting time of task i at point n+1 and the end time of task i′ (ip) at event point n when different tasks take place in the same unit."
   ]
  },
  {
   "cell_type": "code",
   "execution_count": 21,
   "metadata": {},
   "outputs": [],
   "source": [
    "@constraints example3_netprofit begin\n",
    "    sequence4a[i in Ij1, ip in Ij1, j in J, n in 1:length(N)-1; i != ip],\n",
    "      Ts[i,j,n+1] >= Tf[ip,j,n] - H*(2 - w[ip,n] - y[j,n])\n",
    "    sequence4b[i in Ij2, ip in Ij2, j in J, n in 1:length(N)-1; i != ip],\n",
    "      Ts[i,j,n+1] >= Tf[ip,j,n] - H*(2 - w[ip,n] - y[j,n])\n",
    "    sequence4c[i in Ij3, ip in Ij3, j in J, n in 1:length(N)-1; i != ip],\n",
    "      Ts[i,j,n+1] >= Tf[ip,j,n] - H*(2 - w[ip,n] - y[j,n])\n",
    "    sequence4d[i in Ij4, ip in Ij4, j in J, n in 1:length(N)-1; i != ip],\n",
    "      Ts[i,j,n+1] >= Tf[ip,j,n] - H*(2 - w[ip,n] - y[j,n])\n",
    "end"
   ]
  },
  {
   "cell_type": "markdown",
   "metadata": {},
   "source": [
    "# ii. Different Task in Different Units\n",
    "When different tasks i and i′ are performed in different units j and j′ but take place one after the other according to the production recipe.\n",
    "These constraints specify the order in which then tasks in each unit should be performed i.e. task 1 then task 2 (task 3 can't be completed until both task 1 and task 2 are completed) then task 4.\n"
   ]
  },
  {
   "cell_type": "code",
   "execution_count": 22,
   "metadata": {},
   "outputs": [],
   "source": [
    "@constraints example3_netprofit begin\n",
    "    sequence5a[i in I, ip in I, j in Jt2, jp in J, n in 1:length(N)-1; i == I[2] && ip == I[1] && jp == J[1]],\n",
    "      Ts[i,j,n+1] >= Tf[ip,jp,n] - H*(2 - w[ip,n] - y[jp,n])\n",
    "    sequence5b[i in I, ip in I, j in Jt3, jp in J, n in 1:length(N)-1; i == I[3] && ip == I[2] && jp == J[2]],\n",
    "      Ts[i,j,n+1] >= Tf[ip,jp,n] - H*(2 - w[ip,n] - y[jp,n])\n",
    "    sequence5c[i in I, ip in I, j in Jt4, jp in J, n in 1:length(N)-1; i == I[4] && ip == I[3] && jp == J[3]],\n",
    "      Ts[i,j,n+1] >= Tf[ip,jp,n] - H*(2 - w[ip,n] - y[jp,n])\n",
    "    sequence5d[i in I, ip in I, j in Jt3, jp in J, n in 1:length(N)-1; i == I[3] && ip == I[4] && jp == J[4]],\n",
    "      Ts[i,j,n+1] >= Tf[ip,jp,n] - H*(2 - w[ip,n] - y[jp,n])\n",
    "end"
   ]
  },
  {
   "cell_type": "markdown",
   "metadata": {},
   "source": [
    "# iv. Completion of previous tasks\n",
    "A task i' (ip) performed in unit j cannot start until task i in unit j is completed\n"
   ]
  },
  {
   "cell_type": "code",
   "execution_count": 23,
   "metadata": {},
   "outputs": [],
   "source": [
    "@constraints example3_netprofit begin\n",
    "   sequence6a[i in I, j in Jt1, n in 1:length(N)-1],\n",
    "     Ts[i,j,n+1] >= sum(Tf[ip,j,np] - Ts[ip,j,np] for np in N if np <= n for ip in Ij1)\n",
    "   sequence6b[i in I, j in Jt1, n in 1:length(N)-1],\n",
    "     Ts[i,j,n+1] >= sum(Tf[ip,j,np] - Ts[ip,j,np] for np in N if np <= n for ip in Ij2)\n",
    "   sequence6c[i in I, j in Jt1, n in 1:length(N)-1],\n",
    "     Ts[i,j,n+1] >= sum(Tf[ip,j,np] - Ts[ip,j,np] for np in N if np <= n for ip in Ij3)\n",
    "   sequence6d[i in I, j in Jt1, n in 1:length(N)-1],\n",
    "     Ts[i,j,n+1] >= sum(Tf[ip,j,np] - Ts[ip,j,np] for np in N if np <= n for ip in Ij4)\n",
    "\n",
    "   sequence7a[i in I, j in Jt2, n in 1:length(N)-1],\n",
    "     Ts[i,j,n+1] >= sum(Tf[ip,j,np] - Ts[ip,j,np] for np in N if np <= n for ip in Ij1)\n",
    "   sequence7b[i in I, j in Jt2, n in 1:length(N)-1],\n",
    "     Ts[i,j,n+1] >= sum(Tf[ip,j,np] - Ts[ip,j,np] for np in N if np <= n for ip in Ij2)\n",
    "   sequence7c[i in I, j in Jt2, n in 1:length(N)-1],\n",
    "     Ts[i,j,n+1] >= sum(Tf[ip,j,np] - Ts[ip,j,np] for np in N if np <= n for ip in Ij3)\n",
    "   sequence7d[i in I, j in Jt2, n in 1:length(N)-1],\n",
    "     Ts[i,j,n+1] >= sum(Tf[ip,j,np] - Ts[ip,j,np] for np in N if np <= n for ip in Ij4)\n",
    "\n",
    "   sequence8a[i in I, j in Jt3, n in 1:length(N)-1],\n",
    "     Ts[i,j,n+1] >= sum(Tf[ip,j,np] - Ts[ip,j,np] for np in N if np <= n for ip in Ij1)\n",
    "   sequence8b[i in I, j in Jt3, n in 1:length(N)-1],\n",
    "     Ts[i,j,n+1] >= sum(Tf[ip,j,np] - Ts[ip,j,np] for np in N if np <= n for ip in Ij2)\n",
    "   sequence8c[i in I, j in Jt3, n in 1:length(N)-1],\n",
    "     Ts[i,j,n+1] >= sum(Tf[ip,j,np] - Ts[ip,j,np] for np in N if np <= n for ip in Ij3)\n",
    "   sequence8d[i in I, j in Jt3, n in 1:length(N)-1],\n",
    "     Ts[i,j,n+1] >= sum(Tf[ip,j,np] - Ts[ip,j,np] for np in N if np <= n for ip in Ij4)\n",
    "\n",
    "   sequence9a[i in I, j in Jt4, n in 1:length(N)-1],\n",
    "     Ts[i,j,n+1] >= sum(Tf[ip,j,np] - Ts[ip,j,np] for np in N if np <= n for ip in Ij1)\n",
    "   sequence9b[i in I, j in Jt4, n in 1:length(N)-1],\n",
    "     Ts[i,j,n+1] >= sum(Tf[ip,j,np] - Ts[ip,j,np] for np in N if np <= n for ip in Ij2)\n",
    "   sequence9c[i in I, j in Jt4, n in 1:length(N)-1],\n",
    "     Ts[i,j,n+1] >= sum(Tf[ip,j,np] - Ts[ip,j,np] for np in N if np <= n for ip in Ij3)\n",
    "   sequence9d[i in I, j in Jt4, n in 1:length(N)-1],\n",
    "     Ts[i,j,n+1] >= sum(Tf[ip,j,np] - Ts[ip,j,np] for np in N if np <= n for ip in Ij4)\n",
    "\n",
    "end"
   ]
  },
  {
   "cell_type": "markdown",
   "metadata": {},
   "source": [
    "# TIME HORIZON CONSTRAINTS\n",
    "Specify that all tasks should task place within the time horizon\n"
   ]
  },
  {
   "cell_type": "code",
   "execution_count": 24,
   "metadata": {},
   "outputs": [],
   "source": [
    "@constraints example3_netprofit begin\n",
    "    timehorizon1[i in I, j in J, n in N],\n",
    "      Ts[i,j,n] <= H\n",
    "    timehorizon2[i in I, j in J, n in N],\n",
    "      Tf[i,j,n] <= H\n",
    "    \n",
    "end"
   ]
  },
  {
   "cell_type": "markdown",
   "metadata": {},
   "source": [
    "# OBJECTIVE FUNCTION\n",
    "\n",
    "## Profit maximization"
   ]
  },
  {
   "cell_type": "code",
   "execution_count": 25,
   "metadata": {},
   "outputs": [
    {
     "data": {
      "text/latex": [
       "$$ 10 d_{s6,1} + 10 d_{s6,2} + 10 d_{s6,3} + 10 d_{s6,4} + 10 d_{s6,5} + 10 d_{s6,6} + 10 d_{s6,7} + 10 d_{s6,8} + 10 d_{s6,9} + 10 d_{s6,10} + 10 d_{s6,11} + 10 d_{s6,12} + 10 d_{s6,13} + 10 d_{s6,14} + 10 d_{s6,15} + 10 d_{s6,16} + 10 d_{s6,17} + 10 d_{s6,18} + 10 d_{s6,19} + 10 d_{s6,20} + 10 d_{s6,21} + 10 d_{s6,22} + 10 d_{s6,23} + 10 d_{s6,24} + 10 d_{s6,25} + 10 d_{s6,26} + 10 d_{s6,27} + 10 d_{s6,28} + 10 d_{s6,29} + 10 d_{s6,30} + 10 d_{s6,31} + 10 d_{s6,32} + 10 d_{s6,33} + 10 d_{s6,34} + 10 d_{s6,35} + 10 d_{s6,36} + 10 d_{s6,37} + 10 d_{s6,38} + 10 d_{s6,39} + 10 d_{s6,40} + 10 d_{s6,41} + 10 d_{s6,42} + 10 d_{s6,43} + 10 d_{s6,44} + 10 d_{s6,45} + 10 d_{s6,46} + 10 d_{s6,47} + 10 d_{s6,48} + 10 d_{s6,49} + 10 d_{s6,50} + 10 d_{s6,51} + 10 d_{s6,52} + 10 d_{s6,53} + 10 d_{s6,54} + 10 d_{s6,55} + 10 d_{s6,56} + 10 d_{s6,57} + 10 d_{s6,58} + 10 d_{s6,59} + 10 d_{s6,60} + 10 d_{s6,61} + 10 d_{s6,62} + 10 d_{s6,63} + 10 d_{s6,64} + 10 d_{s6,65} + 10 d_{s6,66} + 10 d_{s6,67} + 10 d_{s6,68} + 10 d_{s6,69} + 10 d_{s6,70} + 10 d_{s6,71} + 10 d_{s6,72} + 10 d_{s6,73} + 10 d_{s6,74} + 10 d_{s6,75} + 10 d_{s6,76} + 10 d_{s6,77} + 10 d_{s6,78} + 10 d_{s6,79} + 10 d_{s6,80} + 10 d_{s6,81} + 10 d_{s6,82} + 10 d_{s6,83} + 10 d_{s6,84} + 10 d_{s6,85} + 10 d_{s6,86} + 10 d_{s6,87} + 10 d_{s6,88} + 10 d_{s6,89} + 10 d_{s6,90} + 10 d_{s6,91} + 10 d_{s6,92} + 10 d_{s6,93} + 10 d_{s6,94} + 10 d_{s6,95} + 10 d_{s6,96} + 10 d_{s6,97} + 10 d_{s6,98} + 10 d_{s6,99} + 10 d_{s6,100} $$"
      ],
      "text/plain": [
       "10 d[s6,1] + 10 d[s6,2] + 10 d[s6,3] + 10 d[s6,4] + 10 d[s6,5] + 10 d[s6,6] + 10 d[s6,7] + 10 d[s6,8] + 10 d[s6,9] + 10 d[s6,10] + 10 d[s6,11] + 10 d[s6,12] + 10 d[s6,13] + 10 d[s6,14] + 10 d[s6,15] + 10 d[s6,16] + 10 d[s6,17] + 10 d[s6,18] + 10 d[s6,19] + 10 d[s6,20] + 10 d[s6,21] + 10 d[s6,22] + 10 d[s6,23] + 10 d[s6,24] + 10 d[s6,25] + 10 d[s6,26] + 10 d[s6,27] + 10 d[s6,28] + 10 d[s6,29] + 10 d[s6,30] + 10 d[s6,31] + 10 d[s6,32] + 10 d[s6,33] + 10 d[s6,34] + 10 d[s6,35] + 10 d[s6,36] + 10 d[s6,37] + 10 d[s6,38] + 10 d[s6,39] + 10 d[s6,40] + 10 d[s6,41] + 10 d[s6,42] + 10 d[s6,43] + 10 d[s6,44] + 10 d[s6,45] + 10 d[s6,46] + 10 d[s6,47] + 10 d[s6,48] + 10 d[s6,49] + 10 d[s6,50] + 10 d[s6,51] + 10 d[s6,52] + 10 d[s6,53] + 10 d[s6,54] + 10 d[s6,55] + 10 d[s6,56] + 10 d[s6,57] + 10 d[s6,58] + 10 d[s6,59] + 10 d[s6,60] + 10 d[s6,61] + 10 d[s6,62] + 10 d[s6,63] + 10 d[s6,64] + 10 d[s6,65] + 10 d[s6,66] + 10 d[s6,67] + 10 d[s6,68] + 10 d[s6,69] + 10 d[s6,70] + 10 d[s6,71] + 10 d[s6,72] + 10 d[s6,73] + 10 d[s6,74] + 10 d[s6,75] + 10 d[s6,76] + 10 d[s6,77] + 10 d[s6,78] + 10 d[s6,79] + 10 d[s6,80] + 10 d[s6,81] + 10 d[s6,82] + 10 d[s6,83] + 10 d[s6,84] + 10 d[s6,85] + 10 d[s6,86] + 10 d[s6,87] + 10 d[s6,88] + 10 d[s6,89] + 10 d[s6,90] + 10 d[s6,91] + 10 d[s6,92] + 10 d[s6,93] + 10 d[s6,94] + 10 d[s6,95] + 10 d[s6,96] + 10 d[s6,97] + 10 d[s6,98] + 10 d[s6,99] + 10 d[s6,100]"
      ]
     },
     "execution_count": 25,
     "metadata": {},
     "output_type": "execute_result"
    }
   ],
   "source": [
    "@objective example3_netprofit Max begin\n",
    "    sum(price[s]*d[s,n] for n in N for s in S if s == S[6])\n",
    "end"
   ]
  },
  {
   "cell_type": "code",
   "execution_count": null,
   "metadata": {},
   "outputs": [],
   "source": [
    "optimize!(example3_netprofit);"
   ]
  },
  {
   "cell_type": "markdown",
   "metadata": {},
   "source": [
    "# Optimal value and schedule"
   ]
  },
  {
   "cell_type": "code",
   "execution_count": null,
   "metadata": {},
   "outputs": [],
   "source": [
    "println(\"Optimal Solution: \", JuMP.objective_value(example3_netprofit))\n",
    "println(\"Optimal Schedule: \")\n",
    "println(JuMP.value.(w))\n",
    "println(JuMP.value.(bm))\n",
    "println(JuMP.value.(ts))\n",
    "println(JuMP.value.(tf))"
   ]
  }
 ],
 "metadata": {
  "kernelspec": {
   "display_name": "Julia 1.5.2",
   "language": "julia",
   "name": "julia-1.5"
  },
  "language_info": {
   "file_extension": ".jl",
   "mimetype": "application/julia",
   "name": "julia",
   "version": "1.5.2"
  }
 },
 "nbformat": 4,
 "nbformat_minor": 4
}
