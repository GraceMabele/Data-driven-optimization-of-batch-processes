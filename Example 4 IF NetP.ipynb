{
 "cells": [
  {
   "cell_type": "code",
   "execution_count": 1,
   "metadata": {},
   "outputs": [],
   "source": [
    "using GAMS"
   ]
  },
  {
   "cell_type": "code",
   "execution_count": 2,
   "metadata": {},
   "outputs": [],
   "source": [
    "using JuMP"
   ]
  },
  {
   "cell_type": "code",
   "execution_count": 3,
   "metadata": {},
   "outputs": [],
   "source": [
    "using DataFrames"
   ]
  },
  {
   "cell_type": "code",
   "execution_count": 4,
   "metadata": {},
   "outputs": [],
   "source": [
    "using DataStructures"
   ]
  },
  {
   "cell_type": "code",
   "execution_count": 5,
   "metadata": {},
   "outputs": [],
   "source": [
    "using Surrogates"
   ]
  },
  {
   "cell_type": "code",
   "execution_count": 6,
   "metadata": {},
   "outputs": [],
   "source": [
    "using Flux"
   ]
  },
  {
   "cell_type": "code",
   "execution_count": 7,
   "metadata": {},
   "outputs": [],
   "source": [
    "using Statistics"
   ]
  },
  {
   "cell_type": "code",
   "execution_count": 8,
   "metadata": {},
   "outputs": [],
   "source": [
    "using GLPK"
   ]
  },
  {
   "cell_type": "markdown",
   "metadata": {},
   "source": [
    "# Novel mathematical formulation for the short-term scheduling of batch plants: Example 4\n",
    "\n",
    "This GAMS Model presents an application of the novel mathematical formulation for the short-term scheduling of batch plants. The proposed formulation by Ierapetritou and Floudas  is used on a literature example by Kondili et al that involves 5 tasks and 4 units (heater, 2 reactors and separator). The main process involves a series of \n",
    "processing tasks i.e. a heating, 3 reactions and separation.\n",
    "\n",
    "Formulation Source:\n",
    "Ierapetritou and Floudas (1998) Effective Continuous-Time Formulation for Short-Term Scheduling. 1. Multipurpose Batch Processes. Independent Engineering Chemical Research 37 (4341-4359)\n",
    "\n",
    "Example Source:\n",
    "Kondili E, Pantelides CC, Sargent RWH. (1993) A general algorithm for Short-term scheduling of batch operations. I. MILP formulation. Computer Chemical Engineering. 17 (211–227).\n"
   ]
  },
  {
   "cell_type": "code",
   "execution_count": 9,
   "metadata": {},
   "outputs": [],
   "source": [
    "H = 8;\n",
    "P = 100;"
   ]
  },
  {
   "cell_type": "markdown",
   "metadata": {},
   "source": [
    "# SETS\n",
    "\n",
    "Define the sets to be utilised in the MILP\n",
    "Please task note that if a task can be performed in more than one unit then it is considered a different task for each unit it can be performed in.\n"
   ]
  },
  {
   "cell_type": "code",
   "execution_count": 10,
   "metadata": {},
   "outputs": [],
   "source": [
    "I = [\"t1\",\"t2\",\"t3\",\"t4\",\"t5\",\"t6\",\"t7\",\"t8\"];\n",
    "J = [\"j1\",\"j2\",\"j3\",\"j4\"];\n",
    "N = range(1,P, step = 1);\n",
    "S = [\"s1\",\"s2\",\"s3\",\"s4\",\"s5\",\"s6\",\"s7\",\"s8\",\"s9\"];\n",
    "\n",
    "Jt1 = [J[1]];\n",
    "Jt2 = [J[2]];\n",
    "Jt3 = [J[3]];\n",
    "Jt4 = [J[2]];\n",
    "Jt5 = [J[3]];\n",
    "Jt6 = [J[2]];\n",
    "Jt7 = [J[3]];\n",
    "Jt8 = [J[4]];\n",
    "\n",
    "Ij1 = [I[1]];\n",
    "Ij2 = [I[2],I[4],I[6]];\n",
    "Ij3 = [I[3],I[5],I[7]];\n",
    "Ij4 = [I[8]];\n",
    "\n",
    "Is1 = [I[1]];\n",
    "Is2 = I[2:3];\n",
    "Is3 = [I[2],I[3],I[6],I[7]];\n",
    "Is4 = [I[1],I[4],I[5]];\n",
    "Is5 = I[4:8];\n",
    "Is6 = I[2:5];\n",
    "Is7 = I[6:8];\n",
    "Is8 = I[4:5];\n",
    "Is9 = [I[8]];\n",
    "\n",
    "Ip = I;\n",
    "Jp = J;\n",
    "Np = N;\n",
    "\n"
   ]
  },
  {
   "cell_type": "markdown",
   "metadata": {},
   "source": [
    "# PARAMETERS\n",
    "The available information for the process is given below i.e. storage capacity, initial available inventory, batch size and parameters alpha and beta which are the processing time parameters viz. constant and variable terms\n"
   ]
  },
  {
   "cell_type": "code",
   "execution_count": 11,
   "metadata": {},
   "outputs": [],
   "source": [
    "vmin = OrderedDict(\n",
    "   \"t1\" => 0,\n",
    "   \"t2\" => 0,\n",
    "   \"t3\" => 0,\n",
    "   \"t4\" => 0,\n",
    "   \"t5\" => 0,\n",
    "   \"t6\" => 0,\n",
    "   \"t7\" => 0,\n",
    "   \"t8\" => 0\n",
    ")\n",
    "\n",
    "vmax = OrderedDict(\n",
    "   \"t1\" => 100,\n",
    "   \"t2\" => 50,\n",
    "   \"t3\" => 80,\n",
    "   \"t4\" => 50,\n",
    "   \"t5\" => 80,\n",
    "   \"t6\" => 50,\n",
    "   \"t7\" => 80,\n",
    "   \"t8\" => 200,\n",
    ")\n",
    "\n",
    "STin = OrderedDict(\n",
    "     \"s1\" => 10000,\n",
    "     \"s2\" => 10000,\n",
    "     \"s3\" => 10000,\n",
    "     \"s4\" => 0,\n",
    "     \"s5\" => 0,\n",
    "     \"s6\" => 0,\n",
    "     \"s7\" => 0,\n",
    "     \"s8\" => 0,\n",
    "     \"s9\" => 0\n",
    ")\n",
    "\n",
    "STmax = OrderedDict(\n",
    "     \"s1\" => 100000,\n",
    "     \"s2\" => 100000,\n",
    "     \"s3\" => 100000,\n",
    "     \"s4\" => 100,\n",
    "     \"s5\" => 200,\n",
    "     \"s6\" => 150,\n",
    "     \"s7\" => 200,\n",
    "     \"s8\" => 100000,\n",
    "     \"s9\" => 100000\n",
    ")\n",
    "\n",
    "alpha = OrderedDict(\n",
    "\"t1\" => 0.667,\n",
    "\"t2\" => 1.334,\n",
    "\"t3\" => 1.334,\n",
    "\"t4\" => 1.334,\n",
    "\"t5\" => 1.334,\n",
    "\"t6\" => 0.667,\n",
    "\"t7\" => 0.667,\n",
    "\"t8\" => 1.3342\n",
    ")\n",
    "\n",
    "beta = OrderedDict(\n",
    "\"t1\" => 0.00667,\n",
    "\"t2\" => 0.02664,\n",
    "\"t3\" => 0.01665,\n",
    "\"t4\" => 0.02664,\n",
    "\"t5\" => 0.01665,\n",
    "\"t6\" => 0.01332,\n",
    "\"t7\" => 0.008325,\n",
    "\"t8\" => 0.00666\n",
    ")\n",
    "\n",
    "price = OrderedDict(\n",
    "\"s1\" => 0,\n",
    "\"s2\" => 0,\n",
    "\"s3\" => 0,\n",
    "\"s4\" => 0,\n",
    "\"s5\" => 0,\n",
    "\"s6\" => 0,\n",
    "\"s7\" => 0,\n",
    "\"s8\" => 10,\n",
    "\"s9\" => 10\n",
    ")\n",
    "\n",
    "demand = OrderedDict(\n",
    "\"s1\" => 0,\n",
    "\"s2\" => 0,\n",
    "\"s3\" => 0,\n",
    "\"s4\" => 0,\n",
    "\"s5\" => 0,\n",
    "\"s6\" => 0,\n",
    "\"s7\" => 0,\n",
    "\"s8\" => 0,\n",
    "\"s9\" => 0\n",
    ")\n",
    "\n",
    "#Table p(i,s) 'proportion of state s produced (p(i,s) > 0), consumed (p(i,s) < 0) by task i'\n",
    "#          s1    s2    s3    s4     s5    s6      s7     s8     s9\n",
    "#  t1      -1                +1\n",
    "#  t2           -1   -0.5                 +1\n",
    "#  t3           -1   -0.5                 +1\n",
    "#  t4                       -0.4   +0.6   -0.6          +0.4\n",
    "#  t5                       -0.4   +0.6   -0.6          +0.4\n",
    "#  t6                -0.2           -1           +1\n",
    "#  t7                -0.2           -1           +1\n",
    "#  t8                              +0.1          -1            +0.9\n",
    "\n",
    "\n",
    "rho_table = DataFrame([(I = \"t1\", s1 = -1, s2 = 0, s3 = 0, s4 = +1, s5 = 0, s6 = 0, s7 = 0, s8 = 0, s9 = 0 ),\n",
    "                   (I = \"t2\", s1 = 0, s2 = -1, s3 = -0.5, s4 = 0, s5 = 0, s6 = 1, s7 = 0, s8 = 0, s9 = 0 ),\n",
    "                   (I = \"t3\", s1 = 0, s2 = -1, s3 = -0.5, s4 = 0, s5 = 0, s6 = 1, s7 = 0, s8 = 0, s9 = 0 ),\n",
    "                   (I = \"t4\", s1 = 0, s2 = 0, s3 = 0, s4 = -0.4, s5 = +0.6, s6 = -0.6, s7 = 0, s8 = +0.4, s9 = 0 ),\n",
    "                   (I = \"t5\", s1 = 0, s2 = 0, s3 = 0, s4 = -0.4, s5 = +0.6, s6 = -0.6, s7 = 0, s8 = +0.4, s9 = 0 ),\n",
    "                   (I = \"t6\", s1 = 0, s2 = 0, s3 = -0.2, s4 = 0, s5 = -1, s6 = 0, s7 = +1, s8 = 0, s9 = 0 ),\n",
    "                   (I = \"t7\", s1 = 0, s2 = 0, s3 = -0.2, s4 = 0, s5 = -1, s6 = 0, s7 = +1, s8 = 0, s9 = 0 ),\n",
    "                   (I = \"t8\", s1 = 0, s2 = 0, s3 = 0, s4 = 0, s5 = +0.1, s6 = 0, s7 = -1, s8 = 0, s9 = +0.9 )]);\n",
    "\n",
    "rho = OrderedDict( (r[:I],states) => r[Symbol(states)] for r in eachrow(rho_table), states in S);"
   ]
  },
  {
   "cell_type": "markdown",
   "metadata": {},
   "source": [
    "# MODEL DEFINITION"
   ]
  },
  {
   "cell_type": "code",
   "execution_count": 12,
   "metadata": {},
   "outputs": [
    {
     "ename": "LoadError",
     "evalue": "\u001b[91mUndefVarError: Optimzer not defined\u001b[39m",
     "output_type": "error",
     "traceback": [
      "\u001b[91mUndefVarError: Optimzer not defined\u001b[39m",
      "",
      "Stacktrace:",
      " [1] getproperty(::Module, ::Symbol) at .\\Base.jl:26",
      " [2] top-level scope at In[12]:1",
      " [3] include_string(::Function, ::Module, ::String, ::String) at .\\loading.jl:1091"
     ]
    }
   ],
   "source": [
    "example4_netprofit = Model(GLPK.Optimzer)"
   ]
  },
  {
   "cell_type": "markdown",
   "metadata": {},
   "source": [
    "# VARIABLES"
   ]
  },
  {
   "cell_type": "code",
   "execution_count": 13,
   "metadata": {},
   "outputs": [
    {
     "ename": "LoadError",
     "evalue": "\u001b[91mUndefVarError: example4_netprofit not defined\u001b[39m",
     "output_type": "error",
     "traceback": [
      "\u001b[91mUndefVarError: example4_netprofit not defined\u001b[39m",
      "",
      "Stacktrace:",
      " [1] top-level scope at In[13]:2",
      " [2] include_string(::Function, ::Module, ::String, ::String) at .\\loading.jl:1091"
     ]
    }
   ],
   "source": [
    "@variables example4_netprofit begin\n",
    "    w[i in I, n in N], Bin\n",
    "    y[j in J, n in N], Bin\n",
    "    bm[i in I, j in J, n in N] >= 0\n",
    "    d[s in S, n in N] >= 0\n",
    "    ST[s in S, n in N] >= 0\n",
    "    Ts[i in I, j in J, n in N] >= 0\n",
    "    Tf[i in I, j in J, n in N] >= 0\n",
    "end"
   ]
  },
  {
   "cell_type": "markdown",
   "metadata": {},
   "source": [
    "# ALLOCATION CONSTRAINTS\n",
    "The allocation constraints express that at each unit j and at an event point n only one of the tasks that can be performed\n",
    "in this unit (i.e. i ∈ Ij ) should take place"
   ]
  },
  {
   "cell_type": "code",
   "execution_count": 14,
   "metadata": {},
   "outputs": [
    {
     "ename": "LoadError",
     "evalue": "\u001b[91mUndefVarError: example4_netprofit not defined\u001b[39m",
     "output_type": "error",
     "traceback": [
      "\u001b[91mUndefVarError: example4_netprofit not defined\u001b[39m",
      "",
      "Stacktrace:",
      " [1] top-level scope at In[14]:2",
      " [2] include_string(::Function, ::Module, ::String, ::String) at .\\loading.jl:1091"
     ]
    }
   ],
   "source": [
    "@constraints example4_netprofit begin\n",
    "    allocation1[j in J, n in N; j == J[1]],\n",
    "      sum(w[i,n] for i in Ij1) == y[j,n]\n",
    "    allocation2[j in J, n in N; j == J[2]],\n",
    "      sum(w[i,n] for i in Ij2) == y[j,n]  \n",
    "    allocation3[j in J, n in N; j == J[3]],\n",
    "      sum(w[i,n] for i in Ij3) == y[j,n]\n",
    "    allocation4[j in J, n in N; j == J[4]],\n",
    "      sum(w[i,n] for i in Ij4) == y[j,n]  \n",
    "end"
   ]
  },
  {
   "cell_type": "markdown",
   "metadata": {},
   "source": [
    "# CAPACITY CONSTRAINTS\n",
    "The capacity constraints specify the minimum or maximum amount of available material for a task to take place in a unit\n",
    "Since vmin is zero for all of them, the minimum capacity constraint is not defined\n"
   ]
  },
  {
   "cell_type": "code",
   "execution_count": 15,
   "metadata": {},
   "outputs": [
    {
     "ename": "LoadError",
     "evalue": "\u001b[91mUndefVarError: example4_netprofit not defined\u001b[39m",
     "output_type": "error",
     "traceback": [
      "\u001b[91mUndefVarError: example4_netprofit not defined\u001b[39m",
      "",
      "Stacktrace:",
      " [1] top-level scope at In[15]:2",
      " [2] include_string(::Function, ::Module, ::String, ::String) at .\\loading.jl:1091"
     ]
    }
   ],
   "source": [
    "@constraints example4_netprofit begin\n",
    "    capacity1[i in I, j in Jt1, n in N],\n",
    "      bm[i,j,n] <= vmax[i]*w[i,n]\n",
    "    capacity2[i in I, j in Jt2, n in N],\n",
    "      bm[i,j,n] <= vmax[i]*w[i,n]\n",
    "    capacity3[i in I, j in Jt3, n in N],\n",
    "      bm[i,j,n] <= vmax[i]*w[i,n]\n",
    "    capacity4[i in I, j in Jt4, n in N],\n",
    "      bm[i,j,n] <= vmax[i]*w[i,n]\n",
    "    capacity5[i in I, j in Jt5, n in N],\n",
    "      bm[i,j,n] <= vmax[i]*w[i,n]\n",
    "    capacity6[i in I, j in Jt6, n in N],\n",
    "      bm[i,j,n] <= vmax[i]*w[i,n]\n",
    "    capacity7[i in I, j in Jt7, n in N],\n",
    "      bm[i,j,n] <= vmax[i]*w[i,n]\n",
    "    capacity8[i in I, j in Jt8, n in N],\n",
    "      bm[i,j,n] <= vmax[i]*w[i,n]    \n",
    "end"
   ]
  },
  {
   "cell_type": "markdown",
   "metadata": {},
   "source": [
    "# STORAGE CONSTRAINTS\n",
    "This constraint specifies the maximum storage capacity of each material state"
   ]
  },
  {
   "cell_type": "code",
   "execution_count": 16,
   "metadata": {},
   "outputs": [
    {
     "ename": "LoadError",
     "evalue": "\u001b[91mUndefVarError: example4_netprofit not defined\u001b[39m",
     "output_type": "error",
     "traceback": [
      "\u001b[91mUndefVarError: example4_netprofit not defined\u001b[39m",
      "",
      "Stacktrace:",
      " [1] top-level scope at In[16]:2",
      " [2] include_string(::Function, ::Module, ::String, ::String) at .\\loading.jl:1091"
     ]
    }
   ],
   "source": [
    "@constraints example4_netprofit begin\n",
    "    storage[s in S, n in N],\n",
    "      ST[s,n] <= STmax[s]\n",
    "end"
   ]
  },
  {
   "cell_type": "markdown",
   "metadata": {},
   "source": [
    "# MATERIAL BALANCE: INITIAL CONDITIONS\n",
    "This first set constraints is specifying the initial amount of each material state at event point 1\n"
   ]
  },
  {
   "cell_type": "code",
   "execution_count": 17,
   "metadata": {},
   "outputs": [
    {
     "ename": "LoadError",
     "evalue": "\u001b[91mUndefVarError: example4_netprofit not defined\u001b[39m",
     "output_type": "error",
     "traceback": [
      "\u001b[91mUndefVarError: example4_netprofit not defined\u001b[39m",
      "",
      "Stacktrace:",
      " [1] top-level scope at In[17]:2",
      " [2] include_string(::Function, ::Module, ::String, ::String) at .\\loading.jl:1091"
     ]
    }
   ],
   "source": [
    "@constraints example4_netprofit begin\n",
    "    matbal1a[s in S, n in N; s == S[1] && n == N[1]],\n",
    "      ST[s,n] == STin[s] + sum(rho[i,s]*bm[i,j,n] for i in Is1 for j in Jt1) - d[s,n]\n",
    "    matbal1b[s in S, n in N; s == S[2] && n == N[1]],\n",
    "      ST[s,n] == STin[s] + sum(rho[i,s]*bm[i,j,n] for i in Is2 for j in Jt2) + sum(rho[i,s]*bm[i,j,n] for i in Is2 for j in Jt3) - d[s,n]\n",
    "    matbal1c[s in S, n in N; s == S[3] && n == N[1]],\n",
    "      ST[s,n] == STin[s] + sum(rho[i,s]*bm[i,j,n] for i in Is3 for j in Jt2) + sum(rho[i,s]*bm[i,j,n] for i in Is3 for j in Jt3) + sum(rho[i,s]*bm[i,j,n] for i in Is3 for j in Jt6) + sum(rho[i,s]*bm[i,j,n] for i in Is2 for j in Jt7) - d[s,n]\n",
    "    matbal1d[s in S, n in N; s == S[4] && n == N[1]],\n",
    "      ST[s,n] == STin[s] + sum(rho[i,s]*bm[i,j,n] for i in Is4 for j in Jt4) + sum(rho[i,s]*bm[i,j,n] for i in Is4 for j in Jt5) - d[s,n]\n",
    "    matbal1e[s in S, n in N; s == S[5] && n == N[1]],\n",
    "      ST[s,n] == STin[s] + sum(rho[i,s]*bm[i,j,n] for i in Is5 for j in Jt6) + sum(rho[i,s]*bm[i,j,n] for i in Is5 for j in Jt7) - d[s,n]\n",
    "    matbal1f[s in S, n in N; s == S[6] && n == N[1]],\n",
    "      ST[s,n] == STin[s] + sum(rho[i,s]*bm[i,j,n] for i in Is6 for j in Jt4) + sum(rho[i,s]*bm[i,j,n] for i in Is6 for j in Jt5) - d[s,n]\n",
    "    matbal1g[s in S, n in N; s == S[7] && n == N[1]],\n",
    "      ST[s,n] == STin[s] + sum(rho[i,s]*bm[i,j,n] for i in Is7 for j in Jt8) - d[s,n]\n",
    "    matbal1h[s in S, n in N; s == S[8] && n == N[1]],\n",
    "      ST[s,n] == STin[s] - d[s,n]\n",
    "    matbal1i[s in S, n in N; s == S[9] && n == N[1]],\n",
    "      ST[s,n] == STin[s] - d[s,n]\n",
    "   \n",
    "end"
   ]
  },
  {
   "cell_type": "markdown",
   "metadata": {},
   "source": [
    "# MATERIAL BALANCE: PROCESSED\n",
    "The second set of material balance performs a mass balnce on each state i.e. the amount of material s consumed at event point n by task i in unit j and the amount of material s produced at event point n-1 by task i in unit j\n"
   ]
  },
  {
   "cell_type": "code",
   "execution_count": 18,
   "metadata": {},
   "outputs": [
    {
     "ename": "LoadError",
     "evalue": "\u001b[91mUndefVarError: example4_netprofit not defined\u001b[39m",
     "output_type": "error",
     "traceback": [
      "\u001b[91mUndefVarError: example4_netprofit not defined\u001b[39m",
      "",
      "Stacktrace:",
      " [1] top-level scope at In[18]:2",
      " [2] include_string(::Function, ::Module, ::String, ::String) at .\\loading.jl:1091"
     ]
    }
   ],
   "source": [
    "@constraints example4_netprofit begin\n",
    "    matbal2a[s in S, n in 2:length(N); s == S[1]],\n",
    "      ST[s,n] == ST[s,n-1] + sum(rho[i,s]*bm[i,j,n] for j in Jt1 for i in Is1) - d[s,n]\n",
    "    matbal2b[s in S, n in 2:length(N); s == S[2]],\n",
    "      ST[s,n] == ST[s,n-1] + sum(rho[i,s]*bm[i,j,n] for j in Jt2 for i in Is2) + sum(rho[i,s]*bm[i,j,n] for j in Jt3 for i in Is2) - d[s,n]\n",
    "    matbal2c[s in S, n in 2:length(N); s == S[3]],\n",
    "      ST[s,n] == ST[s,n-1] + sum(rho[i,s]*bm[i,j,n] for j in Jt3 for i in Is3) + sum(rho[i,s]*bm[i,j,n] for j in Jt2 for i in Is3) + sum(rho[i,s]*bm[i,j,n] for j in Jt6 for i in Is3) + sum(rho[i,s]*bm[i,j,n] for j in Jt7 for i in Is3 )  - d[s,n]\n",
    "    matbal2d[s in S, n in 2:length(N); s == S[4]],\n",
    "      ST[s,n] == ST[s,n-1] + sum(rho[i,s]*bm[i,j,n] for j in Jt4 for i in Is4) + sum(rho[i,s]*bm[i,j,n] for j in Jt5 for i in Is4) + sum(rho[i,s]*bm[i,j,n-1] for j in Jt1 for i in Is4) - d[s,n]\n",
    "    matbal2e[s in S, n in 2:length(N); s == S[5]],\n",
    "      ST[s,n] == ST[s,n-1] + sum(rho[i,s]*bm[i,j,n] for j in Jt6 for i in Is5) + sum(rho[i,s]*bm[i,j,n] for j in Jt7 for i in Is5) + sum(rho[i,s]*bm[i,j,n-1] for j in Jt4 for i in Is5) + sum(rho[i,s]*bm[i,j,n-1] for j in Jt5 for i in Is5) + sum(rho[i,s]*bm[i,j,n-1] for j in Jt8 for i in Is5) - d[s,n]\n",
    "    matbal2f[s in S, n in 2:length(N); s == S[6]],\n",
    "      ST[s,n] == ST[s,n-1] + sum(rho[i,s]*bm[i,j,n] for j in Jt4 for i in Is6) + sum(rho[i,s]*bm[i,j,n] for j in Jt5 for i in Is6) + sum(rho[i,s]*bm[i,j,n-1] for j in Jt2 for i in Is6) + sum(rho[i,s]*bm[i,j,n-1] for j in Jt3 for i in Is6)  - d[s,n]\n",
    "    matbal2g[s in S, n in 2:length(N); s == S[7]],\n",
    "      ST[s,n] == ST[s,n-1] + sum(rho[i,s]*bm[i,j,n] for j in Jt8 for i in Is7) + sum(rho[i,s]*bm[i,j,n-1] for j in Jt6 for i in Is7) + sum(rho[i,s]*bm[i,j,n-1] for j in Jt7 for i in Is7) - d[s,n]\n",
    "    matbal2h[s in S, n in 2:length(N); s == S[8]],\n",
    "      ST[s,n] == ST[s,n-1] + sum(rho[i,s]*bm[i,j,n] for j in Jt4 for i in Is8) - d[s,n]\n",
    "    matbal2i[s in S, n in 2:length(N); s == S[9]],\n",
    "      ST[s,n] == ST[s,n-1] + sum(rho[i,s]*bm[i,j,n] for j in Jt4 for i in Is9) - d[s,n]\n",
    "    \n",
    "end"
   ]
  },
  {
   "cell_type": "markdown",
   "metadata": {},
   "source": [
    "# DURATION CONSTRAINTS\n",
    "These constraints don't only specify how long task i will take in unit j but also specifies the dependence of the duration\n",
    "on the amount of material to be processed by task i in unit j."
   ]
  },
  {
   "cell_type": "code",
   "execution_count": 19,
   "metadata": {},
   "outputs": [
    {
     "ename": "LoadError",
     "evalue": "\u001b[91mUndefVarError: example4_netprofit not defined\u001b[39m",
     "output_type": "error",
     "traceback": [
      "\u001b[91mUndefVarError: example4_netprofit not defined\u001b[39m",
      "",
      "Stacktrace:",
      " [1] top-level scope at In[19]:2",
      " [2] include_string(::Function, ::Module, ::String, ::String) at .\\loading.jl:1091"
     ]
    }
   ],
   "source": [
    "@constraints example4_netprofit begin\n",
    "    duration1[i in I, j in Jt1, n in N],\n",
    "      Tf[i,j,n] == Ts[i,j,n] + alpha[i]*w[i,n] + beta[i]*bm[i,j,n]\n",
    "    duration2[i in I, j in Jt2, n in N],\n",
    "      Tf[i,j,n] == Ts[i,j,n] + alpha[i]*w[i,n] + beta[i]*bm[i,j,n]\n",
    "    duration3[i in I, j in Jt3, n in N],\n",
    "      Tf[i,j,n] == Ts[i,j,n] + alpha[i]*w[i,n] + beta[i]*bm[i,j,n]\n",
    "    duration4[i in I, j in Jt4, n in N],\n",
    "      Tf[i,j,n] == Ts[i,j,n] + alpha[i]*w[i,n] + beta[i]*bm[i,j,n]\n",
    "    duration5[i in I, j in Jt5, n in N],\n",
    "      Tf[i,j,n] == Ts[i,j,n] + alpha[i]*w[i,n] + beta[i]*bm[i,j,n]\n",
    "    duration6[i in I, j in Jt6, n in N],\n",
    "      Tf[i,j,n] == Ts[i,j,n] + alpha[i]*w[i,n] + beta[i]*bm[i,j,n]\n",
    "    duration7[i in I, j in Jt7, n in N],\n",
    "      Tf[i,j,n] == Ts[i,j,n] + alpha[i]*w[i,n] + beta[i]*bm[i,j,n]\n",
    "    duration8[i in I, j in Jt8, n in N],\n",
    "      Tf[i,j,n] == Ts[i,j,n] + alpha[i]*w[i,n] + beta[i]*bm[i,j,n]\n",
    "\n",
    "end"
   ]
  },
  {
   "cell_type": "markdown",
   "metadata": {},
   "source": [
    "# SEQUENCE CONSTRAINTS\n",
    "# i. Same Task in Same Unit\n",
    "The first set of sequence specify that the start of task i at event point n+1 should start after the end of event point n\n",
    "for the same task performed in unit j."
   ]
  },
  {
   "cell_type": "code",
   "execution_count": 20,
   "metadata": {},
   "outputs": [
    {
     "ename": "LoadError",
     "evalue": "\u001b[91mUndefVarError: example4_netprofit not defined\u001b[39m",
     "output_type": "error",
     "traceback": [
      "\u001b[91mUndefVarError: example4_netprofit not defined\u001b[39m",
      "",
      "Stacktrace:",
      " [1] top-level scope at In[20]:2",
      " [2] include_string(::Function, ::Module, ::String, ::String) at .\\loading.jl:1091"
     ]
    }
   ],
   "source": [
    "@constraints example4_netprofit begin\n",
    "    sequence1a[i in I, j in Jt1, n in 1:length(N)-1],\n",
    "      Ts[i,j,n+1] >= Tf[i,j,n] -  H*(2 - w[i,n]- y[j,n])\n",
    "    sequence1b[i in I, j in Jt2, n in 1:length(N)-1],\n",
    "      Ts[i,j,n+1] >= Tf[i,j,n] - H*(2 - w[i,n]- y[j,n])\n",
    "    sequence1c[i in I, j in Jt3, n in 1:length(N)-1],\n",
    "      Ts[i,j,n+1] >= Tf[i,j,n] - H*(2 - w[i,n]- y[j,n])\n",
    "    sequence1d[i in I, j in Jt4, n in 1:length(N)-1],\n",
    "      Ts[i,j,n+1] >= Tf[i,j,n] - H*(2 - w[i,n]- y[j,n])\n",
    "    sequence1e[i in I, j in Jt5, n in 1:length(N)-1],\n",
    "      Ts[i,j,n+1] >= Tf[i,j,n] -  H*(2 - w[i,n]- y[j,n])\n",
    "    sequence1f[i in I, j in Jt6, n in 1:length(N)-1],\n",
    "      Ts[i,j,n+1] >= Tf[i,j,n] - H*(2 - w[i,n]- y[j,n])\n",
    "    sequence1g[i in I, j in Jt7, n in 1:length(N)-1],\n",
    "      Ts[i,j,n+1] >= Tf[i,j,n] - H*(2 - w[i,n]- y[j,n])\n",
    "    sequence1h[i in I, j in Jt8, n in 1:length(N)-1],\n",
    "      Ts[i,j,n+1] >= Tf[i,j,n] - H*(2 - w[i,n]- y[j,n])\n",
    "\n",
    "    sequence2a[i in I, j in Jt1, n in 1:length(N)-1],\n",
    "      Ts[i,j,n+1] >= Ts[i,j,n]\n",
    "    sequence2b[i in I, j in Jt2, n in 1:length(N)-1],\n",
    "      Ts[i,j,n+1] >= Ts[i,j,n]\n",
    "    sequence2c[i in I, j in Jt3, n in 1:length(N)-1],\n",
    "      Ts[i,j,n+1] >= Ts[i,j,n]\n",
    "    sequence2d[i in I, j in Jt4, n in 1:length(N)-1],\n",
    "      Ts[i,j,n+1] >= Ts[i,j,n]\n",
    "    sequence2e[i in I, j in Jt5, n in 1:length(N)-1],\n",
    "      Ts[i,j,n+1] >= Ts[i,j,n]\n",
    "    sequence2f[i in I, j in Jt6, n in 1:length(N)-1],\n",
    "      Ts[i,j,n+1] >= Ts[i,j,n]\n",
    "    sequence2g[i in I, j in Jt7, n in 1:length(N)-1],\n",
    "      Ts[i,j,n+1] >= Ts[i,j,n]\n",
    "    sequence2h[i in I, j in Jt8, n in 1:length(N)-1],\n",
    "      Ts[i,j,n+1] >= Ts[i,j,n]\n",
    "\n",
    "    sequence3a[i in I, j in Jt1, n in 1:length(N)-1],\n",
    "      Tf[i,j,n+1] >= Tf[i,j,n]\n",
    "    sequence3b[i in I, j in Jt2, n in 1:length(N)-1],\n",
    "      Tf[i,j,n+1] >= Tf[i,j,n]\n",
    "    sequence3c[i in I, j in Jt3, n in 1:length(N)-1],\n",
    "      Tf[i,j,n+1] >= Tf[i,j,n]\n",
    "    sequence3d[i in I, j in Jt4, n in 1:length(N)-1],\n",
    "      Tf[i,j,n+1] >= Tf[i,j,n]\n",
    "    sequence3e[i in I, j in Jt5, n in 1:length(N)-1],\n",
    "      Tf[i,j,n+1] >= Tf[i,j,n]\n",
    "    sequence3f[i in I, j in Jt6, n in 1:length(N)-1],\n",
    "      Tf[i,j,n+1] >= Tf[i,j,n]\n",
    "    sequence3g[i in I, j in Jt7, n in 1:length(N)-1],\n",
    "      Tf[i,j,n+1] >= Tf[i,j,n]\n",
    "    sequence3h[i in I, j in Jt8, n in 1:length(N)-1],\n",
    "      Tf[i,j,n+1] >= Tf[i,j,n]\n",
    "\n",
    "end"
   ]
  },
  {
   "cell_type": "markdown",
   "metadata": {},
   "source": [
    "# ii. Different Task in Same Unit\n",
    "The following constraints establishes the relationship between the starting time of task i at point n+1 and the end time of task i′ (ip) at event point n when different tasks take place in the same unit."
   ]
  },
  {
   "cell_type": "code",
   "execution_count": 21,
   "metadata": {},
   "outputs": [
    {
     "ename": "LoadError",
     "evalue": "\u001b[91mUndefVarError: example4_netprofit not defined\u001b[39m",
     "output_type": "error",
     "traceback": [
      "\u001b[91mUndefVarError: example4_netprofit not defined\u001b[39m",
      "",
      "Stacktrace:",
      " [1] top-level scope at In[21]:2",
      " [2] include_string(::Function, ::Module, ::String, ::String) at .\\loading.jl:1091"
     ]
    }
   ],
   "source": [
    "@constraints example4_netprofit begin\n",
    "    sequence4a[i in Ij1, ip in Ij1, j in J, n in 1:length(N)-1; i != ip],\n",
    "      Ts[i,j,n+1] >= Tf[ip,j,n] - H*(2 - w[ip,n] - y[j,n])\n",
    "    sequence4b[i in Ij2, ip in Ij2, j in J, n in 1:length(N)-1; i != ip],\n",
    "      Ts[i,j,n+1] >= Tf[ip,j,n] - H*(2 - w[ip,n] - y[j,n])\n",
    "    sequence4c[i in Ij3, ip in Ij3, j in J, n in 1:length(N)-1; i != ip],\n",
    "      Ts[i,j,n+1] >= Tf[ip,j,n] - H*(2 - w[ip,n] - y[j,n])\n",
    "    sequence4d[i in Ij4, ip in Ij4, j in J, n in 1:length(N)-1; i != ip],\n",
    "      Ts[i,j,n+1] >= Tf[ip,j,n] - H*(2 - w[ip,n] - y[j,n])\n",
    "\n",
    "end"
   ]
  },
  {
   "cell_type": "markdown",
   "metadata": {},
   "source": [
    "# iii. Different Task in Different Unit\n",
    "When different tasks i and i′ are performed in different units j and j′ but take place one after the other according to the production recipe. These constraints specify the order in which then tasks in each unit should be performed i.e. heating then reaction 1 then reaction 2 (reaction 2 can't be completed until both reaction 1 and heating are completed) then reaction 3 then separation.\n"
   ]
  },
  {
   "cell_type": "code",
   "execution_count": 22,
   "metadata": {},
   "outputs": [
    {
     "ename": "LoadError",
     "evalue": "\u001b[91mUndefVarError: example4_netprofit not defined\u001b[39m",
     "output_type": "error",
     "traceback": [
      "\u001b[91mUndefVarError: example4_netprofit not defined\u001b[39m",
      "",
      "Stacktrace:",
      " [1] top-level scope at In[22]:2",
      " [2] include_string(::Function, ::Module, ::String, ::String) at .\\loading.jl:1091"
     ]
    }
   ],
   "source": [
    "@constraints example4_netprofit begin\n",
    "    sequence5a[i in I, ip in I, j in Jt4, jp in J, n in 1:length(N)-1; i == I[4] && ip == I[1] && jp == J[1]],\n",
    "      Ts[i,j,n+1] >= Tf[ip,jp,n] - H*(2 - w[ip,n] - y[jp,n])\n",
    "    sequence5b[i in I, ip in I, j in Jt5, jp in J, n in 1:length(N)-1; i == I[5] && ip == I[1] && jp == J[1]],\n",
    "      Ts[i,j,n+1] >= Tf[ip,jp,n] - H*(2 - w[ip,n] - y[jp,n])\n",
    "    sequence5c[i in I, ip in I, j in Jt4, jp in J, n in 1:length(N)-1; i == I[4] && ip == I[2] && jp == J[2]],\n",
    "      Ts[i,j,n+1] >= Tf[ip,jp,n] - H*(2 - w[ip,n] - y[jp,n])\n",
    "    sequence5d[i in I, ip in I, j in Jt5, jp in J, n in 1:length(N)-1; i == I[5] && ip == I[2] && jp == J[2]],\n",
    "      Ts[i,j,n+1] >= Tf[ip,jp,n] - H*(2 - w[ip,n] - y[jp,n])\n",
    "    sequence5e[i in I, ip in I, j in Jt4, jp in J, n in 1:length(N)-1; i == I[4] && ip == I[3] && jp == J[3]],\n",
    "      Ts[i,j,n+1] >= Tf[ip,jp,n] - H*(2 - w[ip,n] - y[jp,n])\n",
    "    sequence5f[i in I, ip in I, j in Jt5, jp in J, n in 1:length(N)-1; i == I[5] && ip == I[3] && jp == J[3]],\n",
    "      Ts[i,j,n+1] >= Tf[ip,jp,n] - H*(2 - w[ip,n] - y[jp,n])\n",
    "    sequence5g[i in I, ip in I, j in Jt6, jp in J, n in 1:length(N)-1; i == I[6] && ip == I[4] && jp == J[2]],\n",
    "      Ts[i,j,n+1] >= Tf[ip,jp,n] - H*(2 - w[ip,n] - y[jp,n])\n",
    "    sequence5h[i in I, ip in I, j in Jt7, jp in J, n in 1:length(N)-1; i == I[7] && ip == I[4] && jp == J[2]],\n",
    "      Ts[i,j,n+1] >= Tf[ip,jp,n] - H*(2 - w[ip,n] - y[jp,n])\n",
    "    sequence5i[i in I, ip in I, j in Jt6, jp in J, n in 1:length(N)-1; i == I[6] && ip == I[5] && jp == J[3]],\n",
    "      Ts[i,j,n+1] >= Tf[ip,jp,n] - H*(2 - w[ip,n] - y[jp,n])\n",
    "    sequence5j[i in I, ip in I, j in Jt7, jp in J, n in 1:length(N)-1; i == I[7] && ip == I[5] && jp == J[3]],\n",
    "      Ts[i,j,n+1] >= Tf[ip,jp,n] - H*(2 - w[ip,n] - y[jp,n])\n",
    "    sequence5k[i in I, ip in I, j in Jt8, jp in J, n in 1:length(N)-1; i == I[8] && ip == I[6] && jp == J[2]],\n",
    "      Ts[i,j,n+1] >= Tf[ip,jp,n] - H*(2 - w[ip,n] - y[jp,n])\n",
    "    sequence5l[i in I, ip in I, j in Jt8, jp in J, n in 1:length(N)-1; i == I[8] && ip == I[7] && jp == J[3]],\n",
    "      Ts[i,j,n+1] >= Tf[ip,jp,n] - H*(2 - w[ip,n] - y[jp,n])\n",
    "    sequence5m[i in I, ip in I, j in Jt6, jp in J, n in 1:length(N)-1; i == I[6] && ip == I[8] && jp == J[4]],\n",
    "      Ts[i,j,n+1] >= Tf[ip,jp,n] - H*(2 - w[ip,n] - y[jp,n])\n",
    "    sequence5n[i in I, ip in I, j in Jt7, jp in J, n in 1:length(N)-1; i == I[7] && ip == I[8] && jp == J[4]],\n",
    "      Ts[i,j,n+1] >= Tf[ip,jp,n] - H*(2 - w[ip,n] - y[jp,n])\n",
    "\n",
    "end"
   ]
  },
  {
   "cell_type": "markdown",
   "metadata": {},
   "source": [
    "# iv. Completion of previous tasks\n",
    "A task i' (ip) performed in unit j cannot start until task i in unit j is completed\n"
   ]
  },
  {
   "cell_type": "code",
   "execution_count": 23,
   "metadata": {},
   "outputs": [
    {
     "ename": "LoadError",
     "evalue": "\u001b[91mUndefVarError: example4_netprofit not defined\u001b[39m",
     "output_type": "error",
     "traceback": [
      "\u001b[91mUndefVarError: example4_netprofit not defined\u001b[39m",
      "",
      "Stacktrace:",
      " [1] top-level scope at In[23]:2",
      " [2] include_string(::Function, ::Module, ::String, ::String) at .\\loading.jl:1091"
     ]
    }
   ],
   "source": [
    "@constraints example4_netprofit begin\n",
    "   sequence6a[i in I, j in Jt1, n in 1:length(N)-1],\n",
    "     Ts[i,j,n+1] >= sum(Tf[ip,j,np] - Ts[ip,j,np] for np in N if np <= n for ip in Ij1)\n",
    "   sequence6b[i in I, j in Jt1, n in 1:length(N)-1],\n",
    "     Ts[i,j,n+1] >= sum(Tf[ip,j,np] - Ts[ip,j,np] for np in N if np <= n for ip in Ij2)\n",
    "   sequence6c[i in I, j in Jt1, n in 1:length(N)-1],\n",
    "     Ts[i,j,n+1] >= sum(Tf[ip,j,np] - Ts[ip,j,np] for np in N if np <= n for ip in Ij3)\n",
    "   sequence6d[i in I, j in Jt1, n in 1:length(N)-1],\n",
    "     Ts[i,j,n+1] >= sum(Tf[ip,j,np] - Ts[ip,j,np] for np in N if np <= n for ip in Ij4)\n",
    "\n",
    "   sequence7a[i in I, j in Jt2, n in 1:length(N)-1],\n",
    "     Ts[i,j,n+1] >= sum(Tf[ip,j,np] - Ts[ip,j,np] for np in N if np <= n for ip in Ij1)\n",
    "   sequence7b[i in I, j in Jt2, n in 1:length(N)-1],\n",
    "     Ts[i,j,n+1] >= sum(Tf[ip,j,np] - Ts[ip,j,np] for np in N if np <= n for ip in Ij2)\n",
    "   sequence7c[i in I, j in Jt2, n in 1:length(N)-1],\n",
    "     Ts[i,j,n+1] >= sum(Tf[ip,j,np] - Ts[ip,j,np] for np in N if np <= n for ip in Ij3)\n",
    "   sequence7d[i in I, j in Jt2, n in 1:length(N)-1],\n",
    "     Ts[i,j,n+1] >= sum(Tf[ip,j,np] - Ts[ip,j,np] for np in N if np <= n for ip in Ij4)\n",
    "\n",
    "   sequence8a[i in I, j in Jt3, n in 1:length(N)-1],\n",
    "     Ts[i,j,n+1] >= sum(Tf[ip,j,np] - Ts[ip,j,np] for np in N if np <= n for ip in Ij1)\n",
    "   sequence8b[i in I, j in Jt3, n in 1:length(N)-1],\n",
    "     Ts[i,j,n+1] >= sum(Tf[ip,j,np] - Ts[ip,j,np] for np in N if np <= n for ip in Ij2)\n",
    "   sequence8c[i in I, j in Jt3, n in 1:length(N)-1],\n",
    "     Ts[i,j,n+1] >= sum(Tf[ip,j,np] - Ts[ip,j,np] for np in N if np <= n for ip in Ij3)\n",
    "   sequence8d[i in I, j in Jt3, n in 1:length(N)-1],\n",
    "     Ts[i,j,n+1] >= sum(Tf[ip,j,np] - Ts[ip,j,np] for np in N if np <= n for ip in Ij4)\n",
    "\n",
    "   sequence9a[i in I, j in Jt4, n in 1:length(N)-1],\n",
    "     Ts[i,j,n+1] >= sum(Tf[ip,j,np] - Ts[ip,j,np] for np in N if np <= n for ip in Ij1)\n",
    "   sequence9b[i in I, j in Jt4, n in 1:length(N)-1],\n",
    "     Ts[i,j,n+1] >= sum(Tf[ip,j,np] - Ts[ip,j,np] for np in N if np <= n for ip in Ij2)\n",
    "   sequence9c[i in I, j in Jt4, n in 1:length(N)-1],\n",
    "     Ts[i,j,n+1] >= sum(Tf[ip,j,np] - Ts[ip,j,np] for np in N if np <= n for ip in Ij3)\n",
    "   sequence9d[i in I, j in Jt4, n in 1:length(N)-1],\n",
    "     Ts[i,j,n+1] >= sum(Tf[ip,j,np] - Ts[ip,j,np] for np in N if np <= n for ip in Ij4)\n",
    "\n",
    "   sequence10a[i in I, j in Jt5, n in 1:length(N)-1],\n",
    "     Ts[i,j,n+1] >= sum(Tf[ip,j,np] - Ts[ip,j,np] for np in N if np <= n for ip in Ij1)\n",
    "   sequence10b[i in I, j in Jt5, n in 1:length(N)-1],\n",
    "     Ts[i,j,n+1] >= sum(Tf[ip,j,np] - Ts[ip,j,np] for np in N if np <= n for ip in Ij2)\n",
    "   sequence10c[i in I, j in Jt5, n in 1:length(N)-1],\n",
    "     Ts[i,j,n+1] >= sum(Tf[ip,j,np] - Ts[ip,j,np] for np in N if np <= n for ip in Ij3)\n",
    "   sequence10d[i in I, j in Jt5, n in 1:length(N)-1],\n",
    "     Ts[i,j,n+1] >= sum(Tf[ip,j,np] - Ts[ip,j,np] for np in N if np <= n for ip in Ij4)\n",
    "\n",
    "   sequence11a[i in I, j in Jt6, n in 1:length(N)-1],\n",
    "     Ts[i,j,n+1] >= sum(Tf[ip,j,np] - Ts[ip,j,np] for np in N if np <= n for ip in Ij1)\n",
    "   sequence11b[i in I, j in Jt6, n in 1:length(N)-1],\n",
    "     Ts[i,j,n+1] >= sum(Tf[ip,j,np] - Ts[ip,j,np] for np in N if np <= n for ip in Ij2)\n",
    "   sequence11c[i in I, j in Jt6, n in 1:length(N)-1],\n",
    "     Ts[i,j,n+1] >= sum(Tf[ip,j,np] - Ts[ip,j,np] for np in N if np <= n for ip in Ij3)\n",
    "   sequence11d[i in I, j in Jt6, n in 1:length(N)-1],\n",
    "     Ts[i,j,n+1] >= sum(Tf[ip,j,np] - Ts[ip,j,np] for np in N if np <= n for ip in Ij4)\n",
    "\n",
    "   sequence12a[i in I, j in Jt7, n in 1:length(N)-1],\n",
    "     Ts[i,j,n+1] >= sum(Tf[ip,j,np] - Ts[ip,j,np] for np in N if np <= n for ip in Ij1)\n",
    "   sequence12b[i in I, j in Jt7, n in 1:length(N)-1],\n",
    "     Ts[i,j,n+1] >= sum(Tf[ip,j,np] - Ts[ip,j,np] for np in N if np <= n for ip in Ij2)\n",
    "   sequence12c[i in I, j in Jt7, n in 1:length(N)-1],\n",
    "     Ts[i,j,n+1] >= sum(Tf[ip,j,np] - Ts[ip,j,np] for np in N if np <= n for ip in Ij3)\n",
    "   sequence12d[i in I, j in Jt7, n in 1:length(N)-1],\n",
    "     Ts[i,j,n+1] >= sum(Tf[ip,j,np] - Ts[ip,j,np] for np in N if np <= n for ip in Ij4)\n",
    "\n",
    "   sequence13a[i in I, j in Jt8, n in 1:length(N)-1],\n",
    "     Ts[i,j,n+1] >= sum(Tf[ip,j,np] - Ts[ip,j,np] for np in N if np <= n for ip in Ij1)\n",
    "   sequence13b[i in I, j in Jt8, n in 1:length(N)-1],\n",
    "     Ts[i,j,n+1] >= sum(Tf[ip,j,np] - Ts[ip,j,np] for np in N if np <= n for ip in Ij2)\n",
    "   sequence13c[i in I, j in Jt8, n in 1:length(N)-1],\n",
    "     Ts[i,j,n+1] >= sum(Tf[ip,j,np] - Ts[ip,j,np] for np in N if np <= n for ip in Ij3)\n",
    "   sequence13d[i in I, j in Jt8, n in 1:length(N)-1],\n",
    "     Ts[i,j,n+1] >= sum(Tf[ip,j,np] - Ts[ip,j,np] for np in N if np <= n for ip in Ij4)\n",
    "\n",
    "end"
   ]
  },
  {
   "cell_type": "markdown",
   "metadata": {},
   "source": [
    "# TIME HORIZON CONSTRAINTS\n",
    "Specify that all tasks should task place within the time horizon\n"
   ]
  },
  {
   "cell_type": "code",
   "execution_count": 24,
   "metadata": {},
   "outputs": [
    {
     "ename": "LoadError",
     "evalue": "\u001b[91mUndefVarError: example4_netprofit not defined\u001b[39m",
     "output_type": "error",
     "traceback": [
      "\u001b[91mUndefVarError: example4_netprofit not defined\u001b[39m",
      "",
      "Stacktrace:",
      " [1] top-level scope at In[24]:2",
      " [2] include_string(::Function, ::Module, ::String, ::String) at .\\loading.jl:1091"
     ]
    }
   ],
   "source": [
    "@constraints example4_netprofit begin\n",
    "    timehorizon1[i in I, j in J, n in N],\n",
    "      Ts[i,j,n] <= H\n",
    "    timehorizon2[i in I, j in J, n in N],\n",
    "      Tf[i,j,n] <= H\n",
    "    \n",
    "end"
   ]
  },
  {
   "cell_type": "markdown",
   "metadata": {},
   "source": [
    "# OBJECTIVE FUNCTION\n",
    "\n",
    "## Profit maximization"
   ]
  },
  {
   "cell_type": "code",
   "execution_count": 25,
   "metadata": {},
   "outputs": [
    {
     "ename": "LoadError",
     "evalue": "\u001b[91mUndefVarError: example4_netprofit not defined\u001b[39m",
     "output_type": "error",
     "traceback": [
      "\u001b[91mUndefVarError: example4_netprofit not defined\u001b[39m",
      "",
      "Stacktrace:",
      " [1] top-level scope at In[25]:1",
      " [2] include_string(::Function, ::Module, ::String, ::String) at .\\loading.jl:1091"
     ]
    }
   ],
   "source": [
    "@objective example4_netprofit Max begin\n",
    "    sum(price[s]*d[s,n] for n in N for s in S if (s in [S[8], S[9]]))\n",
    "end"
   ]
  },
  {
   "cell_type": "code",
   "execution_count": 26,
   "metadata": {},
   "outputs": [
    {
     "ename": "LoadError",
     "evalue": "\u001b[91mUndefVarError: example4_netprofit not defined\u001b[39m",
     "output_type": "error",
     "traceback": [
      "\u001b[91mUndefVarError: example4_netprofit not defined\u001b[39m",
      "",
      "Stacktrace:",
      " [1] top-level scope at In[26]:1",
      " [2] include_string(::Function, ::Module, ::String, ::String) at .\\loading.jl:1091"
     ]
    }
   ],
   "source": [
    "optimize!(example4_netprofit);"
   ]
  },
  {
   "cell_type": "markdown",
   "metadata": {},
   "source": [
    "# Optimal value and schedule"
   ]
  },
  {
   "cell_type": "code",
   "execution_count": 27,
   "metadata": {},
   "outputs": [
    {
     "ename": "LoadError",
     "evalue": "\u001b[91mUndefVarError: example4_netprofit not defined\u001b[39m",
     "output_type": "error",
     "traceback": [
      "\u001b[91mUndefVarError: example4_netprofit not defined\u001b[39m",
      "",
      "Stacktrace:",
      " [1] top-level scope at In[27]:1",
      " [2] include_string(::Function, ::Module, ::String, ::String) at .\\loading.jl:1091"
     ]
    }
   ],
   "source": [
    "println(\"Optimal Solution: \", JuMP.objective_value(example4_netprofit))\n",
    "println(\"Optimal Schedule: \")\n",
    "println(JuMP.value.(w))\n",
    "println(JuMP.value.(bm))\n",
    "println(JuMP.value.(ts))\n",
    "println(JuMP.value.(tf))"
   ]
  }
 ],
 "metadata": {
  "kernelspec": {
   "display_name": "Julia 1.5.2",
   "language": "julia",
   "name": "julia-1.5"
  },
  "language_info": {
   "file_extension": ".jl",
   "mimetype": "application/julia",
   "name": "julia",
   "version": "1.5.2"
  }
 },
 "nbformat": 4,
 "nbformat_minor": 4
}
