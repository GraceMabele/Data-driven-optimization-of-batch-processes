{
 "cells": [
  {
   "cell_type": "code",
   "execution_count": 1,
   "metadata": {},
   "outputs": [],
   "source": [
    "using GAMS"
   ]
  },
  {
   "cell_type": "code",
   "execution_count": 2,
   "metadata": {},
   "outputs": [],
   "source": [
    "using JuMP"
   ]
  },
  {
   "cell_type": "code",
   "execution_count": 3,
   "metadata": {},
   "outputs": [],
   "source": [
    "using GLPK"
   ]
  },
  {
   "cell_type": "code",
   "execution_count": 4,
   "metadata": {},
   "outputs": [],
   "source": [
    "using DataStructures "
   ]
  },
  {
   "cell_type": "code",
   "execution_count": 5,
   "metadata": {},
   "outputs": [],
   "source": [
    "using DataFrames"
   ]
  },
  {
   "cell_type": "code",
   "execution_count": 6,
   "metadata": {},
   "outputs": [],
   "source": [
    "using Surrogates"
   ]
  },
  {
   "cell_type": "code",
   "execution_count": 7,
   "metadata": {},
   "outputs": [],
   "source": [
    "using Flux"
   ]
  },
  {
   "cell_type": "code",
   "execution_count": 8,
   "metadata": {},
   "outputs": [],
   "source": [
    "using Statistics"
   ]
  },
  {
   "cell_type": "markdown",
   "metadata": {},
   "source": [
    "# Novel mathematical formulation for the short-term scheduling of batch plants: Example 1\n",
    "\n",
    "This paper presents a novel mathematical formulation for the short-term scheduling of batch plants. The proposed formulation is based on a continuous time representation and results in a mixed integer linear programming (MILP) problem. It is implemented for a literature example that involves 3 tasks and 3 units (mixer, reactor and purificator). The main process involves a series of processing tasks i.e. a mixing, reaction and purification.\n",
    "\n",
    "\n",
    "Formulation and Example Source:\n",
    "Ierapetritou and Floudas (1998) Effective Continuous-Time Formulation for Short-Term Scheduling. 1. Multipurpose Batch Processes. Independent Engineering Chemical Research 37 (4341-4359)"
   ]
  },
  {
   "cell_type": "code",
   "execution_count": 9,
   "metadata": {},
   "outputs": [],
   "source": [
    "H = 12;\n",
    "P = 5;"
   ]
  },
  {
   "cell_type": "markdown",
   "metadata": {},
   "source": [
    "# SETS\n",
    "Define the sets to be utilised in the MILP\n",
    "Please task note that if a task can be performed in more than one unit then it is considered a different task for each unit it can be performed in."
   ]
  },
  {
   "cell_type": "code",
   "execution_count": 10,
   "metadata": {},
   "outputs": [],
   "source": [
    "#Sets\n",
    "\n",
    "I = [\"t1\",\"t2\",\"t3\"];\n",
    "J = [\"j1\",\"j2\",\"j3\"];\n",
    "N = range(1,5, step = 1);\n",
    "S = [\"s1\",\"s2\",\"s3\",\"s4\"];\n",
    "\n",
    "Jt1 = [J[1]];\n",
    "Jt2 = [J[2]];\n",
    "Jt3 = [J[3]];\n",
    "\n",
    "Ij1 = [I[1]];\n",
    "Ij2 = [I[2]];\n",
    "Ij3 = [I[3]];\n",
    "\n",
    "Is1 = [I[1]];\n",
    "Is2 = I[1:2];\n",
    "Is3 = I[2:3];\n",
    "Is4 = [I[3]];\n",
    "\n",
    "Ip = I;\n",
    "Jp = J;\n",
    "Np = N;\n"
   ]
  },
  {
   "cell_type": "markdown",
   "metadata": {},
   "source": [
    "# PARAMETERS\n",
    "The available information for the process is given below i.e. storage capacity, initial available inventory,\n",
    "batch size and parameters alpha and beta which are the processing time parameters viz. constant and variable terms\n"
   ]
  },
  {
   "cell_type": "code",
   "execution_count": 11,
   "metadata": {},
   "outputs": [],
   "source": [
    "#PARAMETERS\n",
    "\n",
    "vmin = OrderedDict(\n",
    "   \"t1\" => 0,\n",
    "   \"t2\" => 0,\n",
    "   \"t3\" => 0  \n",
    ")\n",
    "\n",
    "vmax = OrderedDict(\n",
    "   \"t1\" => 100,\n",
    "   \"t2\" => 75,\n",
    "   \"t3\" => 50 \n",
    ")\n",
    "\n",
    "STin = OrderedDict(\n",
    "     \"s1\" => 100000,\n",
    "     \"s2\" => 0,\n",
    "     \"s3\" => 0,\n",
    "     \"s4\" => 0)\n",
    "\n",
    "STmax = OrderedDict(\n",
    "     \"s1\" => 100000,\n",
    "     \"s2\" => 100,\n",
    "     \"s3\" => 100,\n",
    "     \"s4\" => 100000\n",
    ")\n",
    "\n",
    "alpha = OrderedDict(\n",
    "\"t1\" => 3.0,\n",
    "\"t2\" => 2.0,\n",
    "\"t3\" => 1.0\n",
    ")\n",
    "\n",
    "beta = OrderedDict(\n",
    "\"t1\" => 0.03,\n",
    "\"t2\" => 0.0266,\n",
    "\"t3\" => 0.02     \n",
    ")\n",
    "\n",
    "price = OrderedDict(\n",
    "\"s1\" => 0,\n",
    "\"s2\" => 0,\n",
    "\"s3\" => 0,\n",
    "\"s4\" => 1\n",
    ")\n",
    "\n",
    "demand = OrderedDict(\n",
    "\"s1\" => 0,\n",
    "\"s2\" => 0,\n",
    "\"s3\" => 0,\n",
    "\"s4\" => 0\n",
    ")\n",
    "\n",
    "#rho_table = wsv\"\"\"\n",
    "#i        s1       s2     s3    s4\n",
    "#t1       -1       +1      0     0\n",
    "#t2        0       -1     +1     0\n",
    "#t3        0       0      -1      +1\n",
    "#\"\"\"\n",
    "\n",
    "rho_table = DataFrame([(I = \"t1\", s1 = -1, s2 = +1, s3 = 0, s4 = 0 ),\n",
    "                       (I = \"t2\", s1 = 0, s2 = -1, s3 = +1, s4 = 0 ),\n",
    "                       (I = \"t3\", s1 = 0, s2 = 0, s3 = -1, s4 = +1 )]);\n",
    "  \n",
    "rho = OrderedDict( (r[:I],states) => r[Symbol(states)] for r in eachrow(rho_table), states in S);"
   ]
  },
  {
   "cell_type": "markdown",
   "metadata": {},
   "source": [
    "# MODEL DEFINITION"
   ]
  },
  {
   "cell_type": "code",
   "execution_count": 12,
   "metadata": {},
   "outputs": [
    {
     "data": {
      "text/latex": [
       "$$ \\begin{alignat*}{1}\\text{feasibility}\\\\\n",
       "\\text{Subject to} \\quad\\end{alignat*}\n",
       " $$"
      ],
      "text/plain": [
       "A JuMP Model\n",
       "Feasibility problem with:\n",
       "Variables: 0\n",
       "Model mode: AUTOMATIC\n",
       "CachingOptimizer state: EMPTY_OPTIMIZER\n",
       "Solver name: GAMS"
      ]
     },
     "execution_count": 12,
     "metadata": {},
     "output_type": "execute_result"
    }
   ],
   "source": [
    "example1_netprofit = Model(GAMS.Optimizer)"
   ]
  },
  {
   "cell_type": "markdown",
   "metadata": {},
   "source": [
    "# VARIABLES"
   ]
  },
  {
   "cell_type": "code",
   "execution_count": 13,
   "metadata": {},
   "outputs": [],
   "source": [
    "@variables example1_netprofit begin\n",
    "    w[i in I, n in N], Bin\n",
    "    y[j in J, n in N], Bin\n",
    "    bm[i in I, j in J, n in N] >= 0\n",
    "    d[s in S, n in N] >= 0\n",
    "    ST[s in S, n in N] >= 0\n",
    "    Ts[i in I, j in J, n in N] >= 0\n",
    "    Tf[i in I, j in J, n in N] >= 0\n",
    "\n",
    "\n",
    "\n",
    "end"
   ]
  },
  {
   "cell_type": "markdown",
   "metadata": {},
   "source": [
    "# ALLOCATION CONSTRAINTS\n",
    "The allocation constraints express that at each unit j and at an event point n only one of the tasks that can be performed\n",
    "in this unit (i.e. i ∈ Ij ) should take place"
   ]
  },
  {
   "cell_type": "code",
   "execution_count": 14,
   "metadata": {},
   "outputs": [],
   "source": [
    "@constraints example1_netprofit begin\n",
    "    allocation1[j in J, n in N; j == J[1]],\n",
    "      sum(w[i,n] for i in Ij1) == y[j,n]\n",
    "    allocation2[j in J, n in N; j == J[2]],\n",
    "      sum(w[i,n] for i in Ij2) == y[j,n]  \n",
    "    allocation3[j in J, n in N; j == J[3]],\n",
    "      sum(w[i,n] for i in Ij3) == y[j,n]\n",
    "end"
   ]
  },
  {
   "cell_type": "markdown",
   "metadata": {},
   "source": [
    "# CAPACITY CONSTRAINTS\n",
    "\n",
    "The capacity constraints specify the minimum or maximum amount of available material for a task to take place in a unit\n",
    "Since vmin is zero for all of them, the minimum capacity constraint is not defined"
   ]
  },
  {
   "cell_type": "code",
   "execution_count": 15,
   "metadata": {},
   "outputs": [],
   "source": [
    "@constraints example1_netprofit begin\n",
    "    capacity1[i in I, j in Jt1, n in N],\n",
    "      bm[i,j,n] <= vmax[i]*w[i,n]\n",
    "    capacity2[i in I, j in Jt2, n in N],\n",
    "      bm[i,j,n] <= vmax[i]*w[i,n]\n",
    "    capacity3[i in I, j in Jt3, n in N],\n",
    "      bm[i,j,n] <= vmax[i]*w[i,n]\n",
    "end"
   ]
  },
  {
   "cell_type": "markdown",
   "metadata": {},
   "source": [
    "# STORAGE CONSTRAINTS\n",
    "This constraint specifies the maximum storage capacity of each material state"
   ]
  },
  {
   "cell_type": "code",
   "execution_count": 16,
   "metadata": {},
   "outputs": [],
   "source": [
    "#STORAGE CONSTRAINTS\n",
    "@constraints example1_netprofit begin\n",
    "    storage[s in S, n in N],\n",
    "      ST[s,n] <= STmax[s]\n",
    "end"
   ]
  },
  {
   "cell_type": "markdown",
   "metadata": {},
   "source": [
    "# MATERIAL BALANCE: INITIAL CONDITIONS\n",
    "This first set constraints is specifying the initial amount of each material state at event point 1\n"
   ]
  },
  {
   "cell_type": "code",
   "execution_count": 17,
   "metadata": {},
   "outputs": [],
   "source": [
    "#MATERIAL BALANCE INITIAL\n",
    "@constraints example1_netprofit begin\n",
    "    matbal1a[s in S, n in N; s == S[1] && n == N[1]],\n",
    "      ST[s,n] == STin[s] + sum(rho[i,s]*bm[i,j,n] for i in Is1 for j in Jt1) - d[s,n]\n",
    "    matbal1b[s in S, n in N; s == S[2] && n == N[1]],\n",
    "      ST[s,n] == STin[s] + sum(rho[i,s]*bm[i,j,n] for i in Is2 for j in Jt2) - d[s,n]\n",
    "    matbal1c[s in S, n in N; s == S[3] && n == N[1]],\n",
    "      ST[s,n] == STin[s] + sum(rho[i,s]*bm[i,j,n] for i in Is3 for j in Jt3) - d[s,n]\n",
    "    matbal1d[s in S, n in N; s == S[4] && n == N[1]],\n",
    "      ST[s,n] == STin[s] - d[s,n]\n",
    "    \n",
    "end"
   ]
  },
  {
   "cell_type": "markdown",
   "metadata": {},
   "source": [
    "# MATERIAL BALANCE PROCESSED\n",
    "The second set of material balance performs a mass balnce on each state i.e. the amount of material s consumed at event point n by task i in unit j and the amount of material s produced at event point n-1 by task i in unit j\n"
   ]
  },
  {
   "cell_type": "code",
   "execution_count": 18,
   "metadata": {},
   "outputs": [],
   "source": [
    "#MATERIAL BALANCE PROCESSED\n",
    "@constraints example1_netprofit begin\n",
    "    matbal2a[s in S, n in 2:length(N); s == S[1]],\n",
    "      ST[s,n] == ST[s,n-1] + sum(rho[i,s]*bm[i,j,n] for j in Jt1 for i in Is1) - d[s,n]\n",
    "    matbal2b[s in S, n in 2:length(N); s == S[2]],\n",
    "      ST[s,n] == ST[s,n-1] + sum(rho[i,s]*bm[i,j,n] for j in Jt2 for i in Is2) + sum(rho[i,s]*bm[i,j,n-1] for j in Jt1 for i in Is2 ) - d[s,n]\n",
    "    matbal2c[s in S, n in 2:length(N); s == S[3]],\n",
    "      ST[s,n] == ST[s,n-1] + sum(rho[i,s]*bm[i,j,n] for j in Jt3 for i in Is3) + sum(rho[i,s]*bm[i,j,n-1] for j in Jt2 for i in Is3 ) - d[s,n]\n",
    "    matbal2d[s in S, n in 2:length(N); s == S[4]],\n",
    "      ST[s,n] == ST[s,n-1] + sum(rho[i,s]*bm[i,j,n-1] for j in Jt3 for i in Is4 ) - d[s,n]\n",
    "    \n",
    "end"
   ]
  },
  {
   "cell_type": "markdown",
   "metadata": {},
   "source": [
    "# DURATION CONSTRAINTS\n",
    "These constraints don't only specify how long task i will take in unit j but also specifies the dependence of the duration\n",
    "on the amount of material to be processed by task i in unit j."
   ]
  },
  {
   "cell_type": "code",
   "execution_count": 19,
   "metadata": {},
   "outputs": [],
   "source": [
    "#DURATION CONSTRAINTS\n",
    "@constraints example1_netprofit begin\n",
    "    duration1[i in I, j in Jt1, n in N],\n",
    "      Tf[i,j,n] == Ts[i,j,n] + alpha[i]*w[i,n] + beta[i]*bm[i,j,n]\n",
    "    duration2[i in I, j in Jt2, n in N],\n",
    "      Tf[i,j,n] == Ts[i,j,n] + alpha[i]*w[i,n] + beta[i]*bm[i,j,n]\n",
    "    duration3[i in I, j in Jt3, n in N],\n",
    "      Tf[i,j,n] == Ts[i,j,n] + alpha[i]*w[i,n] + beta[i]*bm[i,j,n]\n",
    "\n",
    "end"
   ]
  },
  {
   "cell_type": "markdown",
   "metadata": {},
   "source": [
    "# SEQUENCE CONSTRAINTS\n",
    "\n",
    "# i. Same Task in Same Unit\n",
    "The first set of sequence specify that the start of task i at event point n+1 should start after the end of event point n for the same task performed in unit j.\n"
   ]
  },
  {
   "cell_type": "code",
   "execution_count": 20,
   "metadata": {},
   "outputs": [],
   "source": [
    "@constraints example1_netprofit begin\n",
    "    sequence1a[i in I, j in Jt1, n in 1:length(N)-1],\n",
    "      Ts[i,j,n+1] >= Tf[i,j,n] -  H*(2 - w[i,n]- y[j,n])\n",
    "    sequence1b[i in I, j in Jt2, n in 1:length(N)-1],\n",
    "      Ts[i,j,n+1] >= Tf[i,j,n] - H*(2 - w[i,n]- y[j,n])\n",
    "    sequence1c[i in I, j in Jt3, n in 1:length(N)-1],\n",
    "      Ts[i,j,n+1] >= Tf[i,j,n] - H*(2 - w[i,n]- y[j,n])\n",
    "\n",
    "    sequence2a[i in I, j in Jt1, n in 1:length(N)-1],\n",
    "      Ts[i,j,n+1] >= Ts[i,j,n]\n",
    "    sequence2b[i in I, j in Jt2, n in 1:length(N)-1],\n",
    "      Ts[i,j,n+1] >= Ts[i,j,n]\n",
    "    sequence2c[i in I, j in Jt3, n in 1:length(N)-1],\n",
    "      Ts[i,j,n+1] >= Ts[i,j,n]\n",
    "\n",
    "    sequence3a[i in I, j in Jt1, n in 1:length(N)-1],\n",
    "      Tf[i,j,n+1] >= Tf[i,j,n]\n",
    "    sequence3b[i in I, j in Jt2, n in 1:length(N)-1],\n",
    "      Tf[i,j,n+1] >= Tf[i,j,n]\n",
    "    sequence3c[i in I, j in Jt3, n in 1:length(N)-1],\n",
    "      Tf[i,j,n+1] >= Tf[i,j,n]\n",
    "\n",
    "end"
   ]
  },
  {
   "cell_type": "markdown",
   "metadata": {},
   "source": [
    "# ii. Different Task in Same Unit\n",
    "The following constraints establishes the relationship between the starting time of task i at point n+1 and the end time of task i′ (ip) at event point n when different tasks take place in the same unit."
   ]
  },
  {
   "cell_type": "code",
   "execution_count": 21,
   "metadata": {},
   "outputs": [],
   "source": [
    "@constraints example1_netprofit begin\n",
    "    sequence4a[i in Ij1, ip in Ij1, j in J, n in 1:length(N)-1; i != ip],\n",
    "      Ts[i,j,n+1] >= Tf[ip,j,n] - H*(2 - w[ip,n] - y[j,n])\n",
    "    sequence4b[i in Ij2, ip in Ij2, j in J, n in 1:length(N)-1; i != ip],\n",
    "      Ts[i,j,n+1] >= Tf[ip,j,n] - H*(2 - w[ip,n] - y[j,n])\n",
    "    sequence4c[i in Ij3, ip in Ij3, j in J, n in 1:length(N)-1; i != ip],\n",
    "      Ts[i,j,n+1] >= Tf[ip,j,n] - H*(2 - w[ip,n] - y[j,n])\n",
    "   \n",
    "end"
   ]
  },
  {
   "cell_type": "markdown",
   "metadata": {},
   "source": [
    "# ii. Different Task in Different Units\n",
    "\n",
    "When different tasks i and i′ are performed in different units j and j′ but take place one after the other according to the production recipe.These constraints specify the order in which then tasks in each unit should be performed i.e. mixing then reaction then purification.\n"
   ]
  },
  {
   "cell_type": "code",
   "execution_count": 22,
   "metadata": {},
   "outputs": [],
   "source": [
    "@constraints example1_netprofit begin\n",
    "    sequence5a[i in I, ip in I, j in Jt2, jp in J, n in 1:length(N)-1; i == I[2] && ip == I[1] && jp == J[1]],\n",
    "      Ts[i,j,n+1] >= Tf[ip,jp,n] - H*(2 - w[ip,n] - y[jp,n])\n",
    "    sequence5b[i in I, ip in I, j in Jt3, jp in J, n in 1:length(N)-1; i == I[3] && ip == I[2] && jp == J[2]],\n",
    "      Ts[i,j,n+1] >= Tf[ip,jp,n] - H*(2 - w[ip,n] - y[jp,n])\n",
    "     \n",
    "end"
   ]
  },
  {
   "cell_type": "markdown",
   "metadata": {},
   "source": [
    "# iv. Completion of previous tasks\n",
    "A task i' (ip) performed in unit j cannot start until task i in unit j is completed\n"
   ]
  },
  {
   "cell_type": "code",
   "execution_count": 23,
   "metadata": {},
   "outputs": [],
   "source": [
    "#cOMPLETION OF PREVIOUS TASKS\n",
    "@constraints example1_netprofit begin\n",
    "   sequence6a[i in I, j in Jt1, n in 1:length(N)-1],\n",
    "     Ts[i,j,n+1] >= sum(Tf[ip,j,np] - Ts[ip,j,np] for np in N if np <= n for ip in Ij1)\n",
    "   sequence6b[i in I, j in Jt1, n in 1:length(N)-1],\n",
    "     Ts[i,j,n+1] >= sum(Tf[ip,j,np] - Ts[ip,j,np] for np in N if np <= n for ip in Ij2)\n",
    "   sequence6c[i in I, j in Jt1, n in 1:length(N)-1],\n",
    "     Ts[i,j,n+1] >= sum(Tf[ip,j,np] - Ts[ip,j,np] for np in N if np <= n for ip in Ij3)\n",
    "\n",
    "   sequence7a[i in I, j in Jt2, n in 1:length(N)-1],\n",
    "     Ts[i,j,n+1] >= sum(Tf[ip,j,np] - Ts[ip,j,np] for np in N if np <= n for ip in Ij1)\n",
    "   sequence7b[i in I, j in Jt2, n in 1:length(N)-1],\n",
    "     Ts[i,j,n+1] >= sum(Tf[ip,j,np] - Ts[ip,j,np] for np in N if np <= n for ip in Ij2)\n",
    "   sequence7c[i in I, j in Jt2, n in 1:length(N)-1],\n",
    "     Ts[i,j,n+1] >= sum(Tf[ip,j,np] - Ts[ip,j,np] for np in N if np <= n for ip in Ij3)\n",
    "\n",
    "   sequence8a[i in I, j in Jt3, n in 1:length(N)-1],\n",
    "     Ts[i,j,n+1] >= sum(Tf[ip,j,np] - Ts[ip,j,np] for np in N if np <= n for ip in Ij1)\n",
    "   sequence8b[i in I, j in Jt3, n in 1:length(N)-1],\n",
    "     Ts[i,j,n+1] >= sum(Tf[ip,j,np] - Ts[ip,j,np] for np in N if np <= n for ip in Ij2)\n",
    "   sequence8c[i in I, j in Jt3, n in 1:length(N)-1],\n",
    "     Ts[i,j,n+1] >= sum(Tf[ip,j,np] - Ts[ip,j,np] for np in N if np <= n for ip in Ij3)\n",
    "\n",
    "end"
   ]
  },
  {
   "cell_type": "markdown",
   "metadata": {},
   "source": [
    "# TIME HORIZON CONSTRAINTS\n",
    "Specify that all tasks should task place within the time horizon\n"
   ]
  },
  {
   "cell_type": "code",
   "execution_count": 24,
   "metadata": {},
   "outputs": [],
   "source": [
    "#TIME HORIZON CONSTRAINTS\n",
    "@constraints example1_netprofit begin\n",
    "    timehorizon1[i in I, j in J, n in N],\n",
    "      Ts[i,j,n] <= H\n",
    "    timehorizon2[i in I, j in J, n in N],\n",
    "      Tf[i,j,n] <= H\n",
    "    \n",
    "end"
   ]
  },
  {
   "cell_type": "markdown",
   "metadata": {},
   "source": [
    "# OBJECTIVE FUNCTION\n",
    "\n",
    "## Profit maximization"
   ]
  },
  {
   "cell_type": "code",
   "execution_count": 25,
   "metadata": {},
   "outputs": [
    {
     "data": {
      "text/latex": [
       "$$ d_{s4,1} + d_{s4,2} + d_{s4,3} + d_{s4,4} + d_{s4,5} $$"
      ],
      "text/plain": [
       "d[s4,1] + d[s4,2] + d[s4,3] + d[s4,4] + d[s4,5]"
      ]
     },
     "execution_count": 25,
     "metadata": {},
     "output_type": "execute_result"
    }
   ],
   "source": [
    "@objective example1_netprofit Max begin\n",
    "    sum(price[s]*d[s,n] for n in N for s in S if s == S[4])\n",
    "end"
   ]
  },
  {
   "cell_type": "code",
   "execution_count": 26,
   "metadata": {},
   "outputs": [
    {
     "name": "stderr",
     "output_type": "stream",
     "text": [
      "┌ Info: Updated GAMS model type: UNDEFINED -> MIP\n",
      "└ @ GAMS C:\\Users\\glmab\\.julia\\packages\\GAMS\\0iAgU\\src\\MOI_wrapper\\solve.jl:63\n"
     ]
    },
    {
     "name": "stdout",
     "output_type": "stream",
     "text": [
      "--- Job moi.gms Start 04/15/21 16:42:14 34.2.0 r6925a71 WEX-WEI x86 64bit/MS Windows\r\n",
      "--- Applying:\r\n",
      "    C:\\GAMS\\34\\gmsprmNT.txt\r\n",
      "    C:\\Users\\glmab\\Documents\\GAMS\\gamsconfig.yaml\r\n",
      "--- GAMS Parameters defined\r\n",
      "    Input C:\\Users\\glmab\\AppData\\Local\\Temp\\gams_jl_3deB8M\\moi.gms\r\n",
      "    ScrDir C:\\Users\\glmab\\AppData\\Local\\Temp\\gams_jl_3deB8M\\225a\\\r\n",
      "    SysDir C:\\GAMS\\34\\\r\n",
      "    CurDir C:\\Users\\glmab\\AppData\\Local\\Temp\\gams_jl_3deB8M\\\r\n",
      "    LimRow 0\r\n",
      "    LimCol 0\r\n",
      "    SolPrint 0\r\n",
      "    SavePoint 1\r\n",
      "    SolveLink 5\r\n",
      "    Threads 1\r\n",
      "Licensee: GAMS Community License for Grace Mabele        G200511|0002AO-GEN\r\n",
      "          University of the Witwatersrand, SOUTH AFRICA               CL174\r\n",
      "          C:\\GAMS\\34\\gamslice.txt\r\n",
      "          Grace Mabele, 711140@students.wits.ac.za                         \r\n",
      "          Community license for demonstration and instructional purposes only\r\n",
      "GAMS 34.2.0   Copyright (C) 1987-2021 GAMS Development. All rights reserved\r\n",
      "--- Starting compilation\r\n",
      "--- moi.gms(783) 3 Mb\r\n",
      "--- Starting execution: elapsed 0:00:00.008\r\n",
      "--- moi.gms(747) 4 Mb\r\n",
      "--- Generating MIP model moi\r\n",
      "--- moi.gms(750) 4 Mb\r\n",
      "---   460 rows  206 columns  1,485 non-zeroes\r\n",
      "---   30 discrete-columns\r\n",
      "--- Executing CPLEX (Solvelink=5): elapsed 0:00:00.013\r\n",
      "\r\n",
      "IBM ILOG CPLEX   34.2.0 r6925a71 Released Feb 05, 2021 WEI x86 64bit/MS Window\r\n",
      "\r\n",
      "--- *** This solver runs with a community license. No commercial use.\r\n",
      "--- GMO memory 0.58 Mb (peak 0.58 Mb)\r\n",
      "--- Dictionary memory 0.00 Mb\r\n",
      "--- Cplex 20.1.0.0 link memory 0.01 Mb (peak 0.04 Mb)\r\n",
      "--- Starting Cplex\r\n",
      "\r\n",
      "Version identifier: 20.1.0.0 | 2020-11-10 | 9bedb6d68\r\n",
      "CPXPARAM_Advance                                 0\r\n",
      "CPXPARAM_Threads                                 1\r\n",
      "CPXPARAM_MIP_Display                             4\r\n",
      "CPXPARAM_MIP_Tolerances_AbsMIPGap                0\r\n",
      "Generic callback                                 0x50\r\n",
      "Found incumbent of value 0.000000 after 0.00 sec. (0.01 ticks)\r\n",
      "Tried aggregator 2 times.\r\n",
      "MIP Presolve eliminated 121 rows and 34 columns.\r\n",
      "MIP Presolve modified 40 coefficients.\r\n",
      "Aggregator did 17 substitutions.\r\n",
      "Reduced MIP has 322 rows, 156 columns, and 1268 nonzeros.\r\n",
      "Reduced MIP has 15 binaries, 0 generals, 0 SOSs, and 0 indicators.\r\n",
      "Presolve time = 0.00 sec. (0.90 ticks)\r\n",
      "Probing time = 0.00 sec. (0.10 ticks)\r\n",
      "Tried aggregator 1 time.\r\n",
      "Detecting symmetries...\r\n",
      "Reduced MIP has 322 rows, 156 columns, and 1268 nonzeros.\r\n",
      "Reduced MIP has 15 binaries, 0 generals, 0 SOSs, and 0 indicators.\r\n",
      "Presolve time = 0.00 sec. (0.60 ticks)\r\n",
      "Probing time = 0.00 sec. (0.10 ticks)\r\n",
      "MIP emphasis: balance optimality and feasibility.\r\n",
      "MIP search method: dynamic search.\r\n",
      "Parallel mode: none, using 1 thread.\r\n",
      "Initializing dual steep norms . . .\r\n",
      "\r\n",
      "Iteration log . . .\r\n",
      "Iteration:     1   Dual objective     =           200.000000\r\n",
      "Perturbation started.\r\n",
      "Iteration:    51   Dual objective     =           200.000000\r\n",
      "Removing perturbation.\r\n",
      "Root relaxation solution time = 0.00 sec. (1.08 ticks)\r\n",
      "\r\n",
      "        Nodes                                         Cuts/\r\n",
      "   Node  Left     Objective  IInf  Best Integer    Best Bound    ItCnt     Gap\r\n",
      "\r\n",
      "*     0+    0                            0.0000      200.0000              --- \r\n",
      "Found incumbent of value 0.000000 after 0.00 sec. (3.10 ticks)\r\n",
      "      0     0      200.0000     4        0.0000      200.0000       97     --- \r\n",
      "*     0+    0                          150.3759      200.0000            33.00%\r\n",
      "Found incumbent of value 150.375940 after 0.00 sec. (3.65 ticks)\r\n",
      "      0     0      200.0000     2      150.3759       Cuts: 4      109   33.00%\r\n",
      "*     0+    0                          200.0000      200.0000             0.00%\r\n",
      "Found incumbent of value 200.000000 after 0.01 sec. (5.75 ticks)\r\n",
      "      0     0        cutoff            200.0000      200.0000      109    0.00%\r\n",
      "Elapsed time = 0.01 sec. (5.75 ticks, tree = 0.01 MB, solutions = 2)\r\n",
      "\r\n",
      "Flow cuts applied:  2\r\n",
      "\r\n",
      "Root node processing (before b&c):\r\n",
      "  Real time             =    0.01 sec. (5.77 ticks)\r\n",
      "Sequential b&c:\r\n",
      "  Real time             =    0.00 sec. (0.00 ticks)\r\n",
      "                          ------------\r\n",
      "Total (root+branch&cut) =    0.01 sec. (5.77 ticks)\r\n",
      "\r\n",
      "--- MIP status (101): integer optimal solution.\r\n",
      "--- Cplex Time: 0.01sec (det. 5.77 ticks)\r\n",
      "\r\n",
      "--- Fixing integer variables and solving final LP...\r\n",
      "\r\n",
      "Version identifier: 20.1.0.0 | 2020-11-10 | 9bedb6d68\r\n",
      "CPXPARAM_Advance                                 2\r\n",
      "CPXPARAM_Threads                                 1\r\n",
      "CPXPARAM_MIP_Display                             4\r\n",
      "CPXPARAM_MIP_Tolerances_AbsMIPGap                0\r\n",
      "Tried aggregator 1 time.\r\n",
      "LP Presolve eliminated 317 rows and 112 columns.\r\n",
      "Aggregator did 27 substitutions.\r\n",
      "Reduced LP has 116 rows, 68 columns, and 402 nonzeros.\r\n",
      "Presolve time = 0.00 sec. (0.36 ticks)\r\n",
      "Initializing dual steep norms . . .\r\n",
      "\r\n",
      "Iteration log . . .\r\n",
      "Iteration:     1   Dual objective     =           200.000000\r\n",
      "\r\n",
      "--- Fixed MIP status (1): optimal.\r\n",
      "--- Cplex Time: 0.00sec (det. 0.72 ticks)\r\n",
      "\r\n",
      "\r\n",
      "Proven optimal solution\r\n",
      "MIP Solution:          200.000000    (109 iterations, 0 nodes)\r\n",
      "Final Solve:           200.000000    (40 iterations)\r\n",
      "\r\n",
      "Best possible:         200.000000\r\n",
      "Absolute gap:            0.000000\r\n",
      "Relative gap:            0.000000\r\n",
      "\r\n",
      "--- Reading solution for model moi\r\n",
      "--- GDX Point C:\\Users\\glmab\\AppData\\Local\\Temp\\gams_jl_3deB8M\\moi_p.gdx\r\n",
      "--- Executing after solve: elapsed 0:00:00.042\r\n",
      "--- moi.gms(783) 4 Mb\r\n",
      "--- GDX File (execute_unload) C:\\Users\\glmab\\AppData\\Local\\Temp\\gams_jl_3deB8M\\moi_stats.gdx\r\n",
      "*** Status: Normal completion\r\n",
      "--- Job moi.gms Stop 04/15/21 16:42:14 elapsed 0:00:00.043\r\n"
     ]
    }
   ],
   "source": [
    "optimize!(example1_netprofit);"
   ]
  },
  {
   "cell_type": "markdown",
   "metadata": {},
   "source": [
    "# Optimal value and schedule"
   ]
  },
  {
   "cell_type": "code",
   "execution_count": 27,
   "metadata": {},
   "outputs": [
    {
     "name": "stdout",
     "output_type": "stream",
     "text": [
      "Optimal Solution: 200.0\n",
      "Optimal Schedule: \n",
      "2-dimensional DenseAxisArray{Float64,2,...} with index sets:\n",
      "    Dimension 1, [\"t1\", \"t2\", \"t3\"]\n",
      "    Dimension 2, 1:1:5\n",
      "And data, a 3×5 Array{Float64,2}:\n",
      " 0.0  0.0  0.0  0.0  0.0\n",
      " 1.0  1.0  0.0  1.0  0.0\n",
      " 1.0  1.0  1.0  1.0  0.0\n",
      "3-dimensional DenseAxisArray{Float64,3,...} with index sets:\n",
      "    Dimension 1, [\"t1\", \"t2\", \"t3\"]\n",
      "    Dimension 2, [\"j1\", \"j2\", \"j3\"]\n",
      "    Dimension 3, 1:1:5\n",
      "And data, a 3×3×5 Array{Float64,3}:\n",
      "[:, :, 1] =\n",
      " 0.0  0.0   0.0\n",
      " 0.0  0.0  75.0\n",
      " 0.0  0.0  50.0\n",
      "\n",
      "[:, :, 2] =\n",
      " 0.0  0.0   0.0\n",
      " 0.0  0.0  75.0\n",
      " 0.0  0.0  50.0\n",
      "\n",
      "[:, :, 3] =\n",
      " 0.0  0.0   0.0\n",
      " 0.0  0.0   0.0\n",
      " 0.0  0.0  50.0\n",
      "\n",
      "[:, :, 4] =\n",
      " 0.0  0.0   0.0\n",
      " 0.0  0.0  50.0\n",
      " 0.0  0.0  50.0\n",
      "\n",
      "[:, :, 5] =\n",
      " 0.0  0.0  0.0\n",
      " 0.0  0.0  0.0\n",
      " 0.0  0.0  0.0\n",
      "3-dimensional DenseAxisArray{Float64,3,...} with index sets:\n",
      "    Dimension 1, [\"t1\", \"t2\", \"t3\"]\n",
      "    Dimension 2, [\"j1\", \"j2\", \"j3\"]\n",
      "    Dimension 3, 1:1:5\n",
      "And data, a 3×3×5 Array{Float64,3}:\n",
      "[:, :, 1] =\n",
      " 0.0  0.0  0.0\n",
      " 0.0  0.0  0.0\n",
      " 0.0  0.0  0.0\n",
      "\n",
      "[:, :, 2] =\n",
      " 12.0  12.0  12.0\n",
      "  2.0   2.0   3.995\n",
      "  2.0   2.0   3.995\n",
      "\n",
      "[:, :, 3] =\n",
      " 12.0  12.0  12.0\n",
      "  4.0   4.0   7.99\n",
      "  4.0   4.0   7.99\n",
      "\n",
      "[:, :, 4] =\n",
      " 12.0  12.0  12.0\n",
      "  4.0   4.0   7.99\n",
      "  4.0   4.0   9.99\n",
      "\n",
      "[:, :, 5] =\n",
      " 12.0  12.0  12.0\n",
      " 12.0  12.0  12.0\n",
      " 12.0  12.0  12.0\n",
      "3-dimensional DenseAxisArray{Float64,3,...} with index sets:\n",
      "    Dimension 1, [\"t1\", \"t2\", \"t3\"]\n",
      "    Dimension 2, [\"j1\", \"j2\", \"j3\"]\n",
      "    Dimension 3, 1:1:5\n",
      "And data, a 3×3×5 Array{Float64,3}:\n",
      "[:, :, 1] =\n",
      " 0.0  0.0  0.0\n",
      " 2.0  2.0  3.995\n",
      " 1.0  1.0  2.0\n",
      "\n",
      "[:, :, 2] =\n",
      " 12.0  12.0  12.0\n",
      "  4.0   4.0   7.99\n",
      "  3.0   3.0   5.995\n",
      "\n",
      "[:, :, 3] =\n",
      " 12.0  12.0  12.0\n",
      "  4.0   4.0   7.99\n",
      "  5.0   5.0   9.99\n",
      "\n",
      "[:, :, 4] =\n",
      " 12.0  12.0  12.0\n",
      "  6.0   6.0  11.32\n",
      "  5.0   5.0  11.99\n",
      "\n",
      "[:, :, 5] =\n",
      " 12.0  12.0  12.0\n",
      " 12.0  12.0  12.0\n",
      " 12.0  12.0  12.0\n"
     ]
    }
   ],
   "source": [
    "println(\"Optimal Solution: \", JuMP.objective_value(example1_netprofit))\n",
    "println(\"Optimal Schedule: \")\n",
    "println(JuMP.value.(w))\n",
    "println(JuMP.value.(bm))\n",
    "println(JuMP.value.(Ts))\n",
    "println(JuMP.value.(Tf))\n"
   ]
  }
 ],
 "metadata": {
  "kernelspec": {
   "display_name": "Julia 1.5.2",
   "language": "julia",
   "name": "julia-1.5"
  },
  "language_info": {
   "file_extension": ".jl",
   "mimetype": "application/julia",
   "name": "julia",
   "version": "1.5.2"
  }
 },
 "nbformat": 4,
 "nbformat_minor": 4
}
